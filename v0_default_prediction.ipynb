{
 "cells": [
  {
   "cell_type": "markdown",
   "id": "db1a888c-f494-4914-aa9f-53280f336d7b",
   "metadata": {},
   "source": [
    "---\n",
    "# Business Probleam\n",
    "The objective of this competition is to predict the probability that a customer does not pay back their credit card balance amount in the future based on their monthly customer profile. The target binary variable is calculated by observing 18 months performance window after the latest credit card statement, and if the customer does not pay due amount in 120 days after their latest statement date it is considered a default event.\n",
    "\n",
    "The dataset contains aggregated profile features for each customer at each statement date. Features are anonymized and normalized, and fall into the following general categories:\n",
    "\n",
    "- D_* = Delinquency variables\n",
    "- \n",
    "S_* = Spend variables- \n",
    "P_* = Payment variable- s\n",
    "B_* = Balance variabl- es\n",
    "R_* = Risk var\n",
    "\n",
    "\n",
    "with the following features being categorical:\n",
    "\n",
    "['B_30', 'B_38', 'D_114', 'D_116', 'D_117', 'D_120', 'D_126', 'D_63', 'D_64', 'D_66', 'D_68\n",
    "\n",
    "---']iables"
   ]
  },
  {
   "cell_type": "code",
   "execution_count": null,
   "id": "f70604bf-d7ce-4bc5-9ad6-a43941a8b48b",
   "metadata": {},
   "outputs": [],
   "source": []
  },
  {
   "cell_type": "code",
   "execution_count": null,
   "id": "c421d993-3fc5-4d5e-b36e-47b52c291a00",
   "metadata": {},
   "outputs": [],
   "source": []
  },
  {
   "cell_type": "markdown",
   "id": "33d0b006-4b20-4f5e-adef-7e3ffb6d30cb",
   "metadata": {},
   "source": [
    "# 0.0 Imports"
   ]
  },
  {
   "cell_type": "code",
   "execution_count": 83,
   "id": "d5754054-5fa0-4270-944c-5aa63d5a1e1d",
   "metadata": {
    "ExecuteTime": {
     "end_time": "2023-08-04T16:08:54.073070Z",
     "start_time": "2023-08-04T16:08:54.059780Z"
    }
   },
   "outputs": [],
   "source": [
    "import pandas as pd\n",
    "import numpy as np\n",
    "import matplotlib.pyplot as plt\n",
    "import warnings\n",
    "import seaborn as sns\n",
    "\n",
    "#from dtype_diet import report_on_dataframe\n",
    "\n",
    "from sklearn.preprocessing import MinMaxScaler\n",
    "from sklearn.decomposition import PCA\n",
    "from sklearn.tree import DecisionTreeClassifier\n",
    "from sklearn.ensemble import RandomForestClassifier\n",
    "from sklearn import metrics as mt\n",
    "from sklearn.model_selection import train_test_split\n",
    "from xgboost import XGBClassifier\n",
    "from lightgbm import LGBMClassifier\n",
    "from catboost import CatBoostClassifier\n",
    "from sklearn.linear_model import LogisticRegression\n",
    "\n",
    "\n",
    "# import ydata_profiling as yd\n",
    "# import sweetviz as sv\n",
    "\n",
    "warnings.filterwarnings('ignore')"
   ]
  },
  {
   "cell_type": "markdown",
   "id": "27703aa6-e798-4f6b-8c32-372af0abd44f",
   "metadata": {},
   "source": [
    "## Helper Functions"
   ]
  },
  {
   "cell_type": "code",
   "execution_count": 98,
   "id": "b5dee8ff-0358-4dfd-9d53-b9fae30ab25d",
   "metadata": {},
   "outputs": [],
   "source": [
    "def class_metrics(y_true, y_pred):\n",
    "\n",
    "    f1_score = mt.f1_score(y_true, y_pred)\n",
    "    accuracy = mt.accuracy_score(y_true, y_pred)\n",
    "    precision = mt.precision_score(y_true, y_pred)\n",
    "    recall = mt.recall_score(y_true, y_pred)\n",
    "    roc_auc = mt.roc_auc_score(y_true, y_pred)\n",
    "\n",
    "    return pd.DataFrame({\n",
    "        'F1 Score':f1_score,\n",
    "        'Accuracy':accuracy,\n",
    "        'Precision':precision,\n",
    "        'Recall':recall,\n",
    "        'ROC AUC':roc_auc,\n",
    "        \n",
    "        \n",
    "    }, index=[0])\n",
    "\n",
    "palette = [\"#00BFFF\", \"#DC143C\", \"#FFA07A\", \"#FFD700\", \"#8B008B\", \"#7CFC00\", \"#FF69B4\", \"#00CED1\", \"#FF6347\", \"#9400D3\"]\n",
    "def jupyter_settings(palette):\n",
    "    %matplotlib inline\n",
    "    plt.style.use( 'seaborn-v0_8' )\n",
    "    plt.rcParams['figure.figsize'] = [12, 6]\n",
    "    pd.options.display.max_columns = None\n",
    "    pd.options.display.max_rows = 50\n",
    "    pd.set_option( 'display.expand_frame_repr', False )\n",
    "    sns.set(font_scale=2)\n",
    "    sns.set_theme()\n",
    "    warnings.simplefilter(\"ignore\")\n",
    "    # plt.rcParams.update({'font.size': 10})\n",
    "    sns.set_style(\"darkgrid\")\n",
    "\n",
    "    \n",
    "jupyter_settings(palette)"
   ]
  },
  {
   "cell_type": "markdown",
   "id": "e9c98f61-8803-453a-9d84-f003d9f9be22",
   "metadata": {},
   "source": [
    "## Load Data"
   ]
  },
  {
   "cell_type": "code",
   "execution_count": 46,
   "id": "a795f8cc-18e7-41ac-bf57-70b81eea8d63",
   "metadata": {
    "ExecuteTime": {
     "end_time": "2023-08-04T16:09:36.716770Z",
     "start_time": "2023-08-04T16:09:29.401043Z"
    }
   },
   "outputs": [],
   "source": [
    "path = 'C:/Users/edils/Documents/amex_dataset/'\n",
    "\n",
    "train_data = pd.read_parquet(path + 'train.parquet')\n",
    "#test_data = pd.read_feather(path + 'test_data.ftr')\n",
    "target = pd.read_csv(path + 'train_labels.csv')\n",
    "#train_data = pd.merge(train_data, target, on='customer_ID', how='left')\n",
    "\n",
    "# sample_size = 100000  # Choose the size of the subset you want\n",
    "# train_data_subset = train_data.sample(n=sample_size, random_state=42)  # Use a fixed random_state for reproducibility\n",
    " "
   ]
  },
  {
   "cell_type": "code",
   "execution_count": 47,
   "id": "517ac0e3-ba43-43c3-b37a-b2c13e1f62f7",
   "metadata": {},
   "outputs": [],
   "source": [
    "# train_data = train_data.fillna(0)"
   ]
  },
  {
   "cell_type": "code",
   "execution_count": 48,
   "id": "0365857d-8522-46be-b411-554a3aa61a4e",
   "metadata": {},
   "outputs": [],
   "source": [
    "train_data = pd.merge(train_data, target, on='customer_ID', how='left')"
   ]
  },
  {
   "cell_type": "code",
   "execution_count": 49,
   "id": "710cf76b-5441-44d8-88d9-6ce547bc4126",
   "metadata": {},
   "outputs": [],
   "source": [
    "# sample_size = 100000  # Choose the size of the subset you want\n",
    "# train_data_subset = train_data.sample(n=sample_size, random_state=42)  # Use a fixed random_state for reproducibility\n",
    "\n",
    "# train_data = train_data.dropna()"
   ]
  },
  {
   "cell_type": "markdown",
   "id": "87905eb9-9704-48b4-8371-4476ce82131c",
   "metadata": {},
   "source": [
    "# 1.0 Data Desciption"
   ]
  },
  {
   "cell_type": "code",
   "execution_count": 50,
   "id": "ae32168c-e79c-4d64-b59e-f13bc9c763b7",
   "metadata": {
    "ExecuteTime": {
     "end_time": "2023-08-04T16:09:38.918130Z",
     "start_time": "2023-08-04T16:09:38.892936Z"
    }
   },
   "outputs": [],
   "source": [
    "df1 = train_data.copy()"
   ]
  },
  {
   "cell_type": "code",
   "execution_count": 51,
   "id": "c8deabc8-9ee2-4b93-af16-ac43efdf7dd6",
   "metadata": {
    "ExecuteTime": {
     "end_time": "2023-08-04T16:09:39.291207Z",
     "start_time": "2023-08-04T16:09:39.261127Z"
    }
   },
   "outputs": [
    {
     "data": {
      "text/html": [
       "<div>\n",
       "<style scoped>\n",
       "    .dataframe tbody tr th:only-of-type {\n",
       "        vertical-align: middle;\n",
       "    }\n",
       "\n",
       "    .dataframe tbody tr th {\n",
       "        vertical-align: top;\n",
       "    }\n",
       "\n",
       "    .dataframe thead th {\n",
       "        text-align: right;\n",
       "    }\n",
       "</style>\n",
       "<table border=\"1\" class=\"dataframe\">\n",
       "  <thead>\n",
       "    <tr style=\"text-align: right;\">\n",
       "      <th></th>\n",
       "      <th>5461234</th>\n",
       "      <th>923068</th>\n",
       "      <th>5519089</th>\n",
       "      <th>4090546</th>\n",
       "      <th>1648213</th>\n",
       "      <th>3844750</th>\n",
       "      <th>1343031</th>\n",
       "      <th>2643324</th>\n",
       "      <th>36605</th>\n",
       "      <th>3711566</th>\n",
       "      <th>...</th>\n",
       "      <th>2195504</th>\n",
       "      <th>1367406</th>\n",
       "      <th>3592348</th>\n",
       "      <th>1309129</th>\n",
       "      <th>355250</th>\n",
       "      <th>901412</th>\n",
       "      <th>1296288</th>\n",
       "      <th>3027254</th>\n",
       "      <th>2389474</th>\n",
       "      <th>3192099</th>\n",
       "    </tr>\n",
       "  </thead>\n",
       "  <tbody>\n",
       "    <tr>\n",
       "      <th>customer_ID</th>\n",
       "      <td>fcbfcfb85938905e7a2f3bcffaafdf4166afcb8ce9c627...</td>\n",
       "      <td>2ac6aa0dfffe70f97ca360a6ff02a703eec1bdc6c10e20...</td>\n",
       "      <td>ff677e17ccd8054772299105784c661ffceac5463f3bb6...</td>\n",
       "      <td>bd164be0d2587f6b2d7b76eec3d2d92102b767f0833378...</td>\n",
       "      <td>4bf0d4d4a6a7e5699d1877dda4dc65161e1102ce22f1e3...</td>\n",
       "      <td>b1a9604f66b7833dcfb4dce0f3e8f9e3834067e574e3f7...</td>\n",
       "      <td>3de7d2a893d8603708c73ae1d6d21a3d47d09a1aa847ea...</td>\n",
       "      <td>7a02b08402c1574103836468f987df3cfdebc3e9d8cb9f...</td>\n",
       "      <td>01b43f5620565bb823c5677b7a9ad1848029e27a4ac81c...</td>\n",
       "      <td>ab7d7659a748d40c6d7e50656ba949c842189a59eb2215...</td>\n",
       "      <td>...</td>\n",
       "      <td>6568d2d60b8570468d3f1338f858027e81d333c89e1cce...</td>\n",
       "      <td>3f0f038493935cfe5f453ac1a9dcb09f694e0864f96327...</td>\n",
       "      <td>a5f10d85ba9bcaf62e902685745c2f70978be48bb3d109...</td>\n",
       "      <td>3c536c5f11149b156abc4da162e6873f9e8614bbd04284...</td>\n",
       "      <td>108ecaed4f5481528a59803e00817188e6f38c736eb89d...</td>\n",
       "      <td>29c8054b63c767bdaef3b263e37377b7522dc52a756be0...</td>\n",
       "      <td>3bbe0c0f7e330d3f5eb9c999161573e5dda47de48ca439...</td>\n",
       "      <td>8bce1caaaf0564889a028691053f759800e3b44a59fe88...</td>\n",
       "      <td>6e504337787f99a740ef5fd67be0875cd9fd490c9525ab...</td>\n",
       "      <td>936a8e6160e384f9c7dcf9085d77f27a90923e3665a30e...</td>\n",
       "    </tr>\n",
       "    <tr>\n",
       "      <th>S_2</th>\n",
       "      <td>2017-03-29</td>\n",
       "      <td>2018-02-08</td>\n",
       "      <td>2017-11-13</td>\n",
       "      <td>2017-03-23</td>\n",
       "      <td>2017-07-20</td>\n",
       "      <td>2017-04-26</td>\n",
       "      <td>2017-09-21</td>\n",
       "      <td>2017-06-14</td>\n",
       "      <td>2017-09-06</td>\n",
       "      <td>2017-10-12</td>\n",
       "      <td>...</td>\n",
       "      <td>2017-03-23</td>\n",
       "      <td>2017-08-03</td>\n",
       "      <td>2017-12-19</td>\n",
       "      <td>2017-12-11</td>\n",
       "      <td>2018-03-19</td>\n",
       "      <td>2017-08-17</td>\n",
       "      <td>2017-06-17</td>\n",
       "      <td>2017-09-23</td>\n",
       "      <td>2018-01-18</td>\n",
       "      <td>2017-03-03</td>\n",
       "    </tr>\n",
       "    <tr>\n",
       "      <th>P_2</th>\n",
       "      <td>0.733272</td>\n",
       "      <td>0.525436</td>\n",
       "      <td>0.933157</td>\n",
       "      <td>0.932037</td>\n",
       "      <td>0.41006</td>\n",
       "      <td>0.822339</td>\n",
       "      <td>0.91676</td>\n",
       "      <td>1.007719</td>\n",
       "      <td>0.19668</td>\n",
       "      <td>0.831019</td>\n",
       "      <td>...</td>\n",
       "      <td>0.362084</td>\n",
       "      <td>0.838007</td>\n",
       "      <td>0.960988</td>\n",
       "      <td>0.417498</td>\n",
       "      <td>0.227575</td>\n",
       "      <td>0.968086</td>\n",
       "      <td>0.90877</td>\n",
       "      <td>0.614522</td>\n",
       "      <td>0.892119</td>\n",
       "      <td>0.932934</td>\n",
       "    </tr>\n",
       "    <tr>\n",
       "      <th>D_39</th>\n",
       "      <td>0</td>\n",
       "      <td>3</td>\n",
       "      <td>24</td>\n",
       "      <td>0</td>\n",
       "      <td>0</td>\n",
       "      <td>0</td>\n",
       "      <td>6</td>\n",
       "      <td>3</td>\n",
       "      <td>20</td>\n",
       "      <td>0</td>\n",
       "      <td>...</td>\n",
       "      <td>0</td>\n",
       "      <td>0</td>\n",
       "      <td>0</td>\n",
       "      <td>0</td>\n",
       "      <td>0</td>\n",
       "      <td>14</td>\n",
       "      <td>0</td>\n",
       "      <td>1</td>\n",
       "      <td>0</td>\n",
       "      <td>14</td>\n",
       "    </tr>\n",
       "    <tr>\n",
       "      <th>B_1</th>\n",
       "      <td>0.000163</td>\n",
       "      <td>0.991681</td>\n",
       "      <td>0.01427</td>\n",
       "      <td>0.00875</td>\n",
       "      <td>0.005231</td>\n",
       "      <td>0.003984</td>\n",
       "      <td>0.011184</td>\n",
       "      <td>0.030151</td>\n",
       "      <td>0.072838</td>\n",
       "      <td>0.23604</td>\n",
       "      <td>...</td>\n",
       "      <td>0.045579</td>\n",
       "      <td>0.002869</td>\n",
       "      <td>0.002741</td>\n",
       "      <td>0.199316</td>\n",
       "      <td>0.459631</td>\n",
       "      <td>0.03164</td>\n",
       "      <td>0.008364</td>\n",
       "      <td>0.151514</td>\n",
       "      <td>0.005959</td>\n",
       "      <td>0.041951</td>\n",
       "    </tr>\n",
       "    <tr>\n",
       "      <th>...</th>\n",
       "      <td>...</td>\n",
       "      <td>...</td>\n",
       "      <td>...</td>\n",
       "      <td>...</td>\n",
       "      <td>...</td>\n",
       "      <td>...</td>\n",
       "      <td>...</td>\n",
       "      <td>...</td>\n",
       "      <td>...</td>\n",
       "      <td>...</td>\n",
       "      <td>...</td>\n",
       "      <td>...</td>\n",
       "      <td>...</td>\n",
       "      <td>...</td>\n",
       "      <td>...</td>\n",
       "      <td>...</td>\n",
       "      <td>...</td>\n",
       "      <td>...</td>\n",
       "      <td>...</td>\n",
       "      <td>...</td>\n",
       "      <td>...</td>\n",
       "    </tr>\n",
       "    <tr>\n",
       "      <th>D_142</th>\n",
       "      <td>NaN</td>\n",
       "      <td>NaN</td>\n",
       "      <td>NaN</td>\n",
       "      <td>NaN</td>\n",
       "      <td>0.398695</td>\n",
       "      <td>NaN</td>\n",
       "      <td>NaN</td>\n",
       "      <td>NaN</td>\n",
       "      <td>NaN</td>\n",
       "      <td>NaN</td>\n",
       "      <td>...</td>\n",
       "      <td>0.598889</td>\n",
       "      <td>NaN</td>\n",
       "      <td>0.240653</td>\n",
       "      <td>NaN</td>\n",
       "      <td>NaN</td>\n",
       "      <td>0.664598</td>\n",
       "      <td>NaN</td>\n",
       "      <td>NaN</td>\n",
       "      <td>NaN</td>\n",
       "      <td>NaN</td>\n",
       "    </tr>\n",
       "    <tr>\n",
       "      <th>D_143</th>\n",
       "      <td>0</td>\n",
       "      <td>0</td>\n",
       "      <td>0</td>\n",
       "      <td>0</td>\n",
       "      <td>1</td>\n",
       "      <td>0</td>\n",
       "      <td>0</td>\n",
       "      <td>0</td>\n",
       "      <td>0</td>\n",
       "      <td>0</td>\n",
       "      <td>...</td>\n",
       "      <td>1</td>\n",
       "      <td>0</td>\n",
       "      <td>1</td>\n",
       "      <td>0</td>\n",
       "      <td>0</td>\n",
       "      <td>1</td>\n",
       "      <td>0</td>\n",
       "      <td>0</td>\n",
       "      <td>0</td>\n",
       "      <td>0</td>\n",
       "    </tr>\n",
       "    <tr>\n",
       "      <th>D_144</th>\n",
       "      <td>0.009998</td>\n",
       "      <td>0.00083</td>\n",
       "      <td>0.002147</td>\n",
       "      <td>0.004603</td>\n",
       "      <td>0.00363</td>\n",
       "      <td>0.001771</td>\n",
       "      <td>0.007098</td>\n",
       "      <td>0.008916</td>\n",
       "      <td>0.001747</td>\n",
       "      <td>0.003926</td>\n",
       "      <td>...</td>\n",
       "      <td>0.003997</td>\n",
       "      <td>0.003919</td>\n",
       "      <td>0.008429</td>\n",
       "      <td>0.004111</td>\n",
       "      <td>0.009393</td>\n",
       "      <td>0.458288</td>\n",
       "      <td>0.006226</td>\n",
       "      <td>0.002497</td>\n",
       "      <td>0.003174</td>\n",
       "      <td>0.007612</td>\n",
       "    </tr>\n",
       "    <tr>\n",
       "      <th>D_145</th>\n",
       "      <td>0</td>\n",
       "      <td>0</td>\n",
       "      <td>0</td>\n",
       "      <td>0</td>\n",
       "      <td>15</td>\n",
       "      <td>0</td>\n",
       "      <td>0</td>\n",
       "      <td>0</td>\n",
       "      <td>0</td>\n",
       "      <td>0</td>\n",
       "      <td>...</td>\n",
       "      <td>9</td>\n",
       "      <td>0</td>\n",
       "      <td>2</td>\n",
       "      <td>0</td>\n",
       "      <td>0</td>\n",
       "      <td>2</td>\n",
       "      <td>0</td>\n",
       "      <td>0</td>\n",
       "      <td>0</td>\n",
       "      <td>0</td>\n",
       "    </tr>\n",
       "    <tr>\n",
       "      <th>target</th>\n",
       "      <td>0</td>\n",
       "      <td>1</td>\n",
       "      <td>0</td>\n",
       "      <td>0</td>\n",
       "      <td>0</td>\n",
       "      <td>1</td>\n",
       "      <td>0</td>\n",
       "      <td>0</td>\n",
       "      <td>0</td>\n",
       "      <td>1</td>\n",
       "      <td>...</td>\n",
       "      <td>1</td>\n",
       "      <td>0</td>\n",
       "      <td>0</td>\n",
       "      <td>1</td>\n",
       "      <td>0</td>\n",
       "      <td>0</td>\n",
       "      <td>0</td>\n",
       "      <td>0</td>\n",
       "      <td>0</td>\n",
       "      <td>0</td>\n",
       "    </tr>\n",
       "  </tbody>\n",
       "</table>\n",
       "<p>191 rows × 50 columns</p>\n",
       "</div>"
      ],
      "text/plain": [
       "                                                       5461234  \\\n",
       "customer_ID  fcbfcfb85938905e7a2f3bcffaafdf4166afcb8ce9c627...   \n",
       "S_2                                                 2017-03-29   \n",
       "P_2                                                   0.733272   \n",
       "D_39                                                         0   \n",
       "B_1                                                   0.000163   \n",
       "...                                                        ...   \n",
       "D_142                                                      NaN   \n",
       "D_143                                                        0   \n",
       "D_144                                                 0.009998   \n",
       "D_145                                                        0   \n",
       "target                                                       0   \n",
       "\n",
       "                                                       923068   \\\n",
       "customer_ID  2ac6aa0dfffe70f97ca360a6ff02a703eec1bdc6c10e20...   \n",
       "S_2                                                 2018-02-08   \n",
       "P_2                                                   0.525436   \n",
       "D_39                                                         3   \n",
       "B_1                                                   0.991681   \n",
       "...                                                        ...   \n",
       "D_142                                                      NaN   \n",
       "D_143                                                        0   \n",
       "D_144                                                  0.00083   \n",
       "D_145                                                        0   \n",
       "target                                                       1   \n",
       "\n",
       "                                                       5519089  \\\n",
       "customer_ID  ff677e17ccd8054772299105784c661ffceac5463f3bb6...   \n",
       "S_2                                                 2017-11-13   \n",
       "P_2                                                   0.933157   \n",
       "D_39                                                        24   \n",
       "B_1                                                    0.01427   \n",
       "...                                                        ...   \n",
       "D_142                                                      NaN   \n",
       "D_143                                                        0   \n",
       "D_144                                                 0.002147   \n",
       "D_145                                                        0   \n",
       "target                                                       0   \n",
       "\n",
       "                                                       4090546  \\\n",
       "customer_ID  bd164be0d2587f6b2d7b76eec3d2d92102b767f0833378...   \n",
       "S_2                                                 2017-03-23   \n",
       "P_2                                                   0.932037   \n",
       "D_39                                                         0   \n",
       "B_1                                                    0.00875   \n",
       "...                                                        ...   \n",
       "D_142                                                      NaN   \n",
       "D_143                                                        0   \n",
       "D_144                                                 0.004603   \n",
       "D_145                                                        0   \n",
       "target                                                       0   \n",
       "\n",
       "                                                       1648213  \\\n",
       "customer_ID  4bf0d4d4a6a7e5699d1877dda4dc65161e1102ce22f1e3...   \n",
       "S_2                                                 2017-07-20   \n",
       "P_2                                                    0.41006   \n",
       "D_39                                                         0   \n",
       "B_1                                                   0.005231   \n",
       "...                                                        ...   \n",
       "D_142                                                 0.398695   \n",
       "D_143                                                        1   \n",
       "D_144                                                  0.00363   \n",
       "D_145                                                       15   \n",
       "target                                                       0   \n",
       "\n",
       "                                                       3844750  \\\n",
       "customer_ID  b1a9604f66b7833dcfb4dce0f3e8f9e3834067e574e3f7...   \n",
       "S_2                                                 2017-04-26   \n",
       "P_2                                                   0.822339   \n",
       "D_39                                                         0   \n",
       "B_1                                                   0.003984   \n",
       "...                                                        ...   \n",
       "D_142                                                      NaN   \n",
       "D_143                                                        0   \n",
       "D_144                                                 0.001771   \n",
       "D_145                                                        0   \n",
       "target                                                       1   \n",
       "\n",
       "                                                       1343031  \\\n",
       "customer_ID  3de7d2a893d8603708c73ae1d6d21a3d47d09a1aa847ea...   \n",
       "S_2                                                 2017-09-21   \n",
       "P_2                                                    0.91676   \n",
       "D_39                                                         6   \n",
       "B_1                                                   0.011184   \n",
       "...                                                        ...   \n",
       "D_142                                                      NaN   \n",
       "D_143                                                        0   \n",
       "D_144                                                 0.007098   \n",
       "D_145                                                        0   \n",
       "target                                                       0   \n",
       "\n",
       "                                                       2643324  \\\n",
       "customer_ID  7a02b08402c1574103836468f987df3cfdebc3e9d8cb9f...   \n",
       "S_2                                                 2017-06-14   \n",
       "P_2                                                   1.007719   \n",
       "D_39                                                         3   \n",
       "B_1                                                   0.030151   \n",
       "...                                                        ...   \n",
       "D_142                                                      NaN   \n",
       "D_143                                                        0   \n",
       "D_144                                                 0.008916   \n",
       "D_145                                                        0   \n",
       "target                                                       0   \n",
       "\n",
       "                                                       36605    \\\n",
       "customer_ID  01b43f5620565bb823c5677b7a9ad1848029e27a4ac81c...   \n",
       "S_2                                                 2017-09-06   \n",
       "P_2                                                    0.19668   \n",
       "D_39                                                        20   \n",
       "B_1                                                   0.072838   \n",
       "...                                                        ...   \n",
       "D_142                                                      NaN   \n",
       "D_143                                                        0   \n",
       "D_144                                                 0.001747   \n",
       "D_145                                                        0   \n",
       "target                                                       0   \n",
       "\n",
       "                                                       3711566  ...  \\\n",
       "customer_ID  ab7d7659a748d40c6d7e50656ba949c842189a59eb2215...  ...   \n",
       "S_2                                                 2017-10-12  ...   \n",
       "P_2                                                   0.831019  ...   \n",
       "D_39                                                         0  ...   \n",
       "B_1                                                    0.23604  ...   \n",
       "...                                                        ...  ...   \n",
       "D_142                                                      NaN  ...   \n",
       "D_143                                                        0  ...   \n",
       "D_144                                                 0.003926  ...   \n",
       "D_145                                                        0  ...   \n",
       "target                                                       1  ...   \n",
       "\n",
       "                                                       2195504  \\\n",
       "customer_ID  6568d2d60b8570468d3f1338f858027e81d333c89e1cce...   \n",
       "S_2                                                 2017-03-23   \n",
       "P_2                                                   0.362084   \n",
       "D_39                                                         0   \n",
       "B_1                                                   0.045579   \n",
       "...                                                        ...   \n",
       "D_142                                                 0.598889   \n",
       "D_143                                                        1   \n",
       "D_144                                                 0.003997   \n",
       "D_145                                                        9   \n",
       "target                                                       1   \n",
       "\n",
       "                                                       1367406  \\\n",
       "customer_ID  3f0f038493935cfe5f453ac1a9dcb09f694e0864f96327...   \n",
       "S_2                                                 2017-08-03   \n",
       "P_2                                                   0.838007   \n",
       "D_39                                                         0   \n",
       "B_1                                                   0.002869   \n",
       "...                                                        ...   \n",
       "D_142                                                      NaN   \n",
       "D_143                                                        0   \n",
       "D_144                                                 0.003919   \n",
       "D_145                                                        0   \n",
       "target                                                       0   \n",
       "\n",
       "                                                       3592348  \\\n",
       "customer_ID  a5f10d85ba9bcaf62e902685745c2f70978be48bb3d109...   \n",
       "S_2                                                 2017-12-19   \n",
       "P_2                                                   0.960988   \n",
       "D_39                                                         0   \n",
       "B_1                                                   0.002741   \n",
       "...                                                        ...   \n",
       "D_142                                                 0.240653   \n",
       "D_143                                                        1   \n",
       "D_144                                                 0.008429   \n",
       "D_145                                                        2   \n",
       "target                                                       0   \n",
       "\n",
       "                                                       1309129  \\\n",
       "customer_ID  3c536c5f11149b156abc4da162e6873f9e8614bbd04284...   \n",
       "S_2                                                 2017-12-11   \n",
       "P_2                                                   0.417498   \n",
       "D_39                                                         0   \n",
       "B_1                                                   0.199316   \n",
       "...                                                        ...   \n",
       "D_142                                                      NaN   \n",
       "D_143                                                        0   \n",
       "D_144                                                 0.004111   \n",
       "D_145                                                        0   \n",
       "target                                                       1   \n",
       "\n",
       "                                                       355250   \\\n",
       "customer_ID  108ecaed4f5481528a59803e00817188e6f38c736eb89d...   \n",
       "S_2                                                 2018-03-19   \n",
       "P_2                                                   0.227575   \n",
       "D_39                                                         0   \n",
       "B_1                                                   0.459631   \n",
       "...                                                        ...   \n",
       "D_142                                                      NaN   \n",
       "D_143                                                        0   \n",
       "D_144                                                 0.009393   \n",
       "D_145                                                        0   \n",
       "target                                                       0   \n",
       "\n",
       "                                                       901412   \\\n",
       "customer_ID  29c8054b63c767bdaef3b263e37377b7522dc52a756be0...   \n",
       "S_2                                                 2017-08-17   \n",
       "P_2                                                   0.968086   \n",
       "D_39                                                        14   \n",
       "B_1                                                    0.03164   \n",
       "...                                                        ...   \n",
       "D_142                                                 0.664598   \n",
       "D_143                                                        1   \n",
       "D_144                                                 0.458288   \n",
       "D_145                                                        2   \n",
       "target                                                       0   \n",
       "\n",
       "                                                       1296288  \\\n",
       "customer_ID  3bbe0c0f7e330d3f5eb9c999161573e5dda47de48ca439...   \n",
       "S_2                                                 2017-06-17   \n",
       "P_2                                                    0.90877   \n",
       "D_39                                                         0   \n",
       "B_1                                                   0.008364   \n",
       "...                                                        ...   \n",
       "D_142                                                      NaN   \n",
       "D_143                                                        0   \n",
       "D_144                                                 0.006226   \n",
       "D_145                                                        0   \n",
       "target                                                       0   \n",
       "\n",
       "                                                       3027254  \\\n",
       "customer_ID  8bce1caaaf0564889a028691053f759800e3b44a59fe88...   \n",
       "S_2                                                 2017-09-23   \n",
       "P_2                                                   0.614522   \n",
       "D_39                                                         1   \n",
       "B_1                                                   0.151514   \n",
       "...                                                        ...   \n",
       "D_142                                                      NaN   \n",
       "D_143                                                        0   \n",
       "D_144                                                 0.002497   \n",
       "D_145                                                        0   \n",
       "target                                                       0   \n",
       "\n",
       "                                                       2389474  \\\n",
       "customer_ID  6e504337787f99a740ef5fd67be0875cd9fd490c9525ab...   \n",
       "S_2                                                 2018-01-18   \n",
       "P_2                                                   0.892119   \n",
       "D_39                                                         0   \n",
       "B_1                                                   0.005959   \n",
       "...                                                        ...   \n",
       "D_142                                                      NaN   \n",
       "D_143                                                        0   \n",
       "D_144                                                 0.003174   \n",
       "D_145                                                        0   \n",
       "target                                                       0   \n",
       "\n",
       "                                                       3192099  \n",
       "customer_ID  936a8e6160e384f9c7dcf9085d77f27a90923e3665a30e...  \n",
       "S_2                                                 2017-03-03  \n",
       "P_2                                                   0.932934  \n",
       "D_39                                                        14  \n",
       "B_1                                                   0.041951  \n",
       "...                                                        ...  \n",
       "D_142                                                      NaN  \n",
       "D_143                                                        0  \n",
       "D_144                                                 0.007612  \n",
       "D_145                                                        0  \n",
       "target                                                       0  \n",
       "\n",
       "[191 rows x 50 columns]"
      ]
     },
     "execution_count": 51,
     "metadata": {},
     "output_type": "execute_result"
    }
   ],
   "source": [
    "df1.sample(50).T"
   ]
  },
  {
   "cell_type": "markdown",
   "id": "dab3d56e-d28e-4991-869d-79cba92ee6b9",
   "metadata": {},
   "source": [
    "## 1.1 Data Shape"
   ]
  },
  {
   "cell_type": "code",
   "execution_count": 52,
   "id": "d361ff49-6413-49f7-b0cc-2a1e5ce81bb2",
   "metadata": {
    "ExecuteTime": {
     "end_time": "2023-08-04T16:09:40.069357Z",
     "start_time": "2023-08-04T16:09:40.051965Z"
    }
   },
   "outputs": [
    {
     "data": {
      "text/plain": [
       "(5531451, 191)"
      ]
     },
     "execution_count": 52,
     "metadata": {},
     "output_type": "execute_result"
    }
   ],
   "source": [
    "df1.shape"
   ]
  },
  {
   "cell_type": "markdown",
   "id": "1ea4d9a0-f88d-40f2-a520-3808bab84016",
   "metadata": {},
   "source": [
    "## 1.2 Data Info"
   ]
  },
  {
   "cell_type": "code",
   "execution_count": 53,
   "id": "b041ab69-230e-49e6-b847-eafd49e77024",
   "metadata": {
    "ExecuteTime": {
     "end_time": "2023-08-04T16:09:41.516792Z",
     "start_time": "2023-08-04T16:09:40.908405Z"
    }
   },
   "outputs": [
    {
     "ename": "KeyboardInterrupt",
     "evalue": "",
     "output_type": "error",
     "traceback": [
      "\u001b[1;31m---------------------------------------------------------------------------\u001b[0m",
      "\u001b[1;31mKeyboardInterrupt\u001b[0m                         Traceback (most recent call last)",
      "Cell \u001b[1;32mIn[53], line 1\u001b[0m\n\u001b[1;32m----> 1\u001b[0m \u001b[43mdf1\u001b[49m\u001b[38;5;241;43m.\u001b[39;49m\u001b[43mdescribe\u001b[49m\u001b[43m(\u001b[49m\u001b[43m)\u001b[49m\n",
      "File \u001b[1;32m~\\anaconda3\\envs\\default_prediction\\lib\\site-packages\\pandas\\core\\generic.py:10819\u001b[0m, in \u001b[0;36mNDFrame.describe\u001b[1;34m(self, percentiles, include, exclude)\u001b[0m\n\u001b[0;32m  10577\u001b[0m \u001b[38;5;129m@final\u001b[39m\n\u001b[0;32m  10578\u001b[0m \u001b[38;5;28;01mdef\u001b[39;00m \u001b[38;5;21mdescribe\u001b[39m(\n\u001b[0;32m  10579\u001b[0m     \u001b[38;5;28mself\u001b[39m: NDFrameT,\n\u001b[1;32m   (...)\u001b[0m\n\u001b[0;32m  10582\u001b[0m     exclude\u001b[38;5;241m=\u001b[39m\u001b[38;5;28;01mNone\u001b[39;00m,\n\u001b[0;32m  10583\u001b[0m ) \u001b[38;5;241m-\u001b[39m\u001b[38;5;241m>\u001b[39m NDFrameT:\n\u001b[0;32m  10584\u001b[0m \u001b[38;5;250m    \u001b[39m\u001b[38;5;124;03m\"\"\"\u001b[39;00m\n\u001b[0;32m  10585\u001b[0m \u001b[38;5;124;03m    Generate descriptive statistics.\u001b[39;00m\n\u001b[0;32m  10586\u001b[0m \n\u001b[1;32m   (...)\u001b[0m\n\u001b[0;32m  10817\u001b[0m \u001b[38;5;124;03m    max            NaN      3.0\u001b[39;00m\n\u001b[0;32m  10818\u001b[0m \u001b[38;5;124;03m    \"\"\"\u001b[39;00m\n\u001b[1;32m> 10819\u001b[0m     \u001b[38;5;28;01mreturn\u001b[39;00m \u001b[43mdescribe_ndframe\u001b[49m\u001b[43m(\u001b[49m\n\u001b[0;32m  10820\u001b[0m \u001b[43m        \u001b[49m\u001b[43mobj\u001b[49m\u001b[38;5;241;43m=\u001b[39;49m\u001b[38;5;28;43mself\u001b[39;49m\u001b[43m,\u001b[49m\n\u001b[0;32m  10821\u001b[0m \u001b[43m        \u001b[49m\u001b[43minclude\u001b[49m\u001b[38;5;241;43m=\u001b[39;49m\u001b[43minclude\u001b[49m\u001b[43m,\u001b[49m\n\u001b[0;32m  10822\u001b[0m \u001b[43m        \u001b[49m\u001b[43mexclude\u001b[49m\u001b[38;5;241;43m=\u001b[39;49m\u001b[43mexclude\u001b[49m\u001b[43m,\u001b[49m\n\u001b[0;32m  10823\u001b[0m \u001b[43m        \u001b[49m\u001b[43mpercentiles\u001b[49m\u001b[38;5;241;43m=\u001b[39;49m\u001b[43mpercentiles\u001b[49m\u001b[43m,\u001b[49m\n\u001b[0;32m  10824\u001b[0m \u001b[43m    \u001b[49m\u001b[43m)\u001b[49m\n",
      "File \u001b[1;32m~\\anaconda3\\envs\\default_prediction\\lib\\site-packages\\pandas\\core\\methods\\describe.py:94\u001b[0m, in \u001b[0;36mdescribe_ndframe\u001b[1;34m(obj, include, exclude, percentiles)\u001b[0m\n\u001b[0;32m     87\u001b[0m \u001b[38;5;28;01melse\u001b[39;00m:\n\u001b[0;32m     88\u001b[0m     describer \u001b[38;5;241m=\u001b[39m DataFrameDescriber(\n\u001b[0;32m     89\u001b[0m         obj\u001b[38;5;241m=\u001b[39mcast(\u001b[38;5;124m\"\u001b[39m\u001b[38;5;124mDataFrame\u001b[39m\u001b[38;5;124m\"\u001b[39m, obj),\n\u001b[0;32m     90\u001b[0m         include\u001b[38;5;241m=\u001b[39minclude,\n\u001b[0;32m     91\u001b[0m         exclude\u001b[38;5;241m=\u001b[39mexclude,\n\u001b[0;32m     92\u001b[0m     )\n\u001b[1;32m---> 94\u001b[0m result \u001b[38;5;241m=\u001b[39m \u001b[43mdescriber\u001b[49m\u001b[38;5;241;43m.\u001b[39;49m\u001b[43mdescribe\u001b[49m\u001b[43m(\u001b[49m\u001b[43mpercentiles\u001b[49m\u001b[38;5;241;43m=\u001b[39;49m\u001b[43mpercentiles\u001b[49m\u001b[43m)\u001b[49m\n\u001b[0;32m     95\u001b[0m \u001b[38;5;28;01mreturn\u001b[39;00m cast(NDFrameT, result)\n",
      "File \u001b[1;32m~\\anaconda3\\envs\\default_prediction\\lib\\site-packages\\pandas\\core\\methods\\describe.py:167\u001b[0m, in \u001b[0;36mDataFrameDescriber.describe\u001b[1;34m(self, percentiles)\u001b[0m\n\u001b[0;32m    165\u001b[0m \u001b[38;5;28;01mfor\u001b[39;00m _, series \u001b[38;5;129;01min\u001b[39;00m data\u001b[38;5;241m.\u001b[39mitems():\n\u001b[0;32m    166\u001b[0m     describe_func \u001b[38;5;241m=\u001b[39m select_describe_func(series)\n\u001b[1;32m--> 167\u001b[0m     ldesc\u001b[38;5;241m.\u001b[39mappend(\u001b[43mdescribe_func\u001b[49m\u001b[43m(\u001b[49m\u001b[43mseries\u001b[49m\u001b[43m,\u001b[49m\u001b[43m \u001b[49m\u001b[43mpercentiles\u001b[49m\u001b[43m)\u001b[49m)\n\u001b[0;32m    169\u001b[0m col_names \u001b[38;5;241m=\u001b[39m reorder_columns(ldesc)\n\u001b[0;32m    170\u001b[0m d \u001b[38;5;241m=\u001b[39m concat(\n\u001b[0;32m    171\u001b[0m     [x\u001b[38;5;241m.\u001b[39mreindex(col_names, copy\u001b[38;5;241m=\u001b[39m\u001b[38;5;28;01mFalse\u001b[39;00m) \u001b[38;5;28;01mfor\u001b[39;00m x \u001b[38;5;129;01min\u001b[39;00m ldesc],\n\u001b[0;32m    172\u001b[0m     axis\u001b[38;5;241m=\u001b[39m\u001b[38;5;241m1\u001b[39m,\n\u001b[0;32m    173\u001b[0m     sort\u001b[38;5;241m=\u001b[39m\u001b[38;5;28;01mFalse\u001b[39;00m,\n\u001b[0;32m    174\u001b[0m )\n",
      "File \u001b[1;32m~\\anaconda3\\envs\\default_prediction\\lib\\site-packages\\pandas\\core\\methods\\describe.py:226\u001b[0m, in \u001b[0;36mdescribe_numeric_1d\u001b[1;34m(series, percentiles)\u001b[0m\n\u001b[0;32m    222\u001b[0m formatted_percentiles \u001b[38;5;241m=\u001b[39m format_percentiles(percentiles)\n\u001b[0;32m    224\u001b[0m stat_index \u001b[38;5;241m=\u001b[39m [\u001b[38;5;124m\"\u001b[39m\u001b[38;5;124mcount\u001b[39m\u001b[38;5;124m\"\u001b[39m, \u001b[38;5;124m\"\u001b[39m\u001b[38;5;124mmean\u001b[39m\u001b[38;5;124m\"\u001b[39m, \u001b[38;5;124m\"\u001b[39m\u001b[38;5;124mstd\u001b[39m\u001b[38;5;124m\"\u001b[39m, \u001b[38;5;124m\"\u001b[39m\u001b[38;5;124mmin\u001b[39m\u001b[38;5;124m\"\u001b[39m] \u001b[38;5;241m+\u001b[39m formatted_percentiles \u001b[38;5;241m+\u001b[39m [\u001b[38;5;124m\"\u001b[39m\u001b[38;5;124mmax\u001b[39m\u001b[38;5;124m\"\u001b[39m]\n\u001b[0;32m    225\u001b[0m d \u001b[38;5;241m=\u001b[39m (\n\u001b[1;32m--> 226\u001b[0m     [series\u001b[38;5;241m.\u001b[39mcount(), series\u001b[38;5;241m.\u001b[39mmean(), series\u001b[38;5;241m.\u001b[39mstd(), \u001b[43mseries\u001b[49m\u001b[38;5;241;43m.\u001b[39;49m\u001b[43mmin\u001b[49m\u001b[43m(\u001b[49m\u001b[43m)\u001b[49m]\n\u001b[0;32m    227\u001b[0m     \u001b[38;5;241m+\u001b[39m series\u001b[38;5;241m.\u001b[39mquantile(percentiles)\u001b[38;5;241m.\u001b[39mtolist()\n\u001b[0;32m    228\u001b[0m     \u001b[38;5;241m+\u001b[39m [series\u001b[38;5;241m.\u001b[39mmax()]\n\u001b[0;32m    229\u001b[0m )\n\u001b[0;32m    230\u001b[0m \u001b[38;5;66;03m# GH#48340 - always return float on non-complex numeric data\u001b[39;00m\n\u001b[0;32m    231\u001b[0m dtype: DtypeObj \u001b[38;5;241m|\u001b[39m \u001b[38;5;28;01mNone\u001b[39;00m\n",
      "File \u001b[1;32m~\\anaconda3\\envs\\default_prediction\\lib\\site-packages\\pandas\\core\\generic.py:11669\u001b[0m, in \u001b[0;36mNDFrame._add_numeric_operations.<locals>.min\u001b[1;34m(self, axis, skipna, numeric_only, **kwargs)\u001b[0m\n\u001b[0;32m  11650\u001b[0m \u001b[38;5;129m@doc\u001b[39m(\n\u001b[0;32m  11651\u001b[0m     _num_doc,\n\u001b[0;32m  11652\u001b[0m     desc\u001b[38;5;241m=\u001b[39m\u001b[38;5;124m\"\u001b[39m\u001b[38;5;124mReturn the minimum of the values over the requested axis.\u001b[39m\u001b[38;5;130;01m\\n\u001b[39;00m\u001b[38;5;130;01m\\n\u001b[39;00m\u001b[38;5;124m\"\u001b[39m\n\u001b[1;32m   (...)\u001b[0m\n\u001b[0;32m  11667\u001b[0m     \u001b[38;5;241m*\u001b[39m\u001b[38;5;241m*\u001b[39mkwargs,\n\u001b[0;32m  11668\u001b[0m ):\n\u001b[1;32m> 11669\u001b[0m     \u001b[38;5;28;01mreturn\u001b[39;00m NDFrame\u001b[38;5;241m.\u001b[39mmin(\u001b[38;5;28mself\u001b[39m, axis, skipna, numeric_only, \u001b[38;5;241m*\u001b[39m\u001b[38;5;241m*\u001b[39mkwargs)\n",
      "File \u001b[1;32m~\\anaconda3\\envs\\default_prediction\\lib\\site-packages\\pandas\\core\\generic.py:11169\u001b[0m, in \u001b[0;36mNDFrame.min\u001b[1;34m(self, axis, skipna, numeric_only, **kwargs)\u001b[0m\n\u001b[0;32m  11162\u001b[0m \u001b[38;5;28;01mdef\u001b[39;00m \u001b[38;5;21mmin\u001b[39m(\n\u001b[0;32m  11163\u001b[0m     \u001b[38;5;28mself\u001b[39m,\n\u001b[0;32m  11164\u001b[0m     axis: Axis \u001b[38;5;241m|\u001b[39m \u001b[38;5;28;01mNone\u001b[39;00m \u001b[38;5;241m=\u001b[39m \u001b[38;5;241m0\u001b[39m,\n\u001b[1;32m   (...)\u001b[0m\n\u001b[0;32m  11167\u001b[0m     \u001b[38;5;241m*\u001b[39m\u001b[38;5;241m*\u001b[39mkwargs,\n\u001b[0;32m  11168\u001b[0m ):\n\u001b[1;32m> 11169\u001b[0m     \u001b[38;5;28;01mreturn\u001b[39;00m \u001b[38;5;28mself\u001b[39m\u001b[38;5;241m.\u001b[39m_stat_function(\n\u001b[0;32m  11170\u001b[0m         \u001b[38;5;124m\"\u001b[39m\u001b[38;5;124mmin\u001b[39m\u001b[38;5;124m\"\u001b[39m,\n\u001b[0;32m  11171\u001b[0m         nanops\u001b[38;5;241m.\u001b[39mnanmin,\n\u001b[0;32m  11172\u001b[0m         axis,\n\u001b[0;32m  11173\u001b[0m         skipna,\n\u001b[0;32m  11174\u001b[0m         numeric_only,\n\u001b[0;32m  11175\u001b[0m         \u001b[38;5;241m*\u001b[39m\u001b[38;5;241m*\u001b[39mkwargs,\n\u001b[0;32m  11176\u001b[0m     )\n",
      "File \u001b[1;32m~\\anaconda3\\envs\\default_prediction\\lib\\site-packages\\pandas\\core\\generic.py:11158\u001b[0m, in \u001b[0;36mNDFrame._stat_function\u001b[1;34m(self, name, func, axis, skipna, numeric_only, **kwargs)\u001b[0m\n\u001b[0;32m  11154\u001b[0m     nv\u001b[38;5;241m.\u001b[39mvalidate_stat_func((), kwargs, fname\u001b[38;5;241m=\u001b[39mname)\n\u001b[0;32m  11156\u001b[0m validate_bool_kwarg(skipna, \u001b[38;5;124m\"\u001b[39m\u001b[38;5;124mskipna\u001b[39m\u001b[38;5;124m\"\u001b[39m, none_allowed\u001b[38;5;241m=\u001b[39m\u001b[38;5;28;01mFalse\u001b[39;00m)\n\u001b[1;32m> 11158\u001b[0m \u001b[38;5;28;01mreturn\u001b[39;00m \u001b[38;5;28;43mself\u001b[39;49m\u001b[38;5;241;43m.\u001b[39;49m\u001b[43m_reduce\u001b[49m\u001b[43m(\u001b[49m\n\u001b[0;32m  11159\u001b[0m \u001b[43m    \u001b[49m\u001b[43mfunc\u001b[49m\u001b[43m,\u001b[49m\u001b[43m \u001b[49m\u001b[43mname\u001b[49m\u001b[38;5;241;43m=\u001b[39;49m\u001b[43mname\u001b[49m\u001b[43m,\u001b[49m\u001b[43m \u001b[49m\u001b[43maxis\u001b[49m\u001b[38;5;241;43m=\u001b[39;49m\u001b[43maxis\u001b[49m\u001b[43m,\u001b[49m\u001b[43m \u001b[49m\u001b[43mskipna\u001b[49m\u001b[38;5;241;43m=\u001b[39;49m\u001b[43mskipna\u001b[49m\u001b[43m,\u001b[49m\u001b[43m \u001b[49m\u001b[43mnumeric_only\u001b[49m\u001b[38;5;241;43m=\u001b[39;49m\u001b[43mnumeric_only\u001b[49m\n\u001b[0;32m  11160\u001b[0m \u001b[43m\u001b[49m\u001b[43m)\u001b[49m\n",
      "File \u001b[1;32m~\\anaconda3\\envs\\default_prediction\\lib\\site-packages\\pandas\\core\\series.py:4670\u001b[0m, in \u001b[0;36mSeries._reduce\u001b[1;34m(self, op, name, axis, skipna, numeric_only, filter_type, **kwds)\u001b[0m\n\u001b[0;32m   4665\u001b[0m     \u001b[38;5;28;01mraise\u001b[39;00m \u001b[38;5;167;01mTypeError\u001b[39;00m(\n\u001b[0;32m   4666\u001b[0m         \u001b[38;5;124mf\u001b[39m\u001b[38;5;124m\"\u001b[39m\u001b[38;5;124mSeries.\u001b[39m\u001b[38;5;132;01m{\u001b[39;00mname\u001b[38;5;132;01m}\u001b[39;00m\u001b[38;5;124m does not allow \u001b[39m\u001b[38;5;132;01m{\u001b[39;00mkwd_name\u001b[38;5;132;01m}\u001b[39;00m\u001b[38;5;124m=\u001b[39m\u001b[38;5;132;01m{\u001b[39;00mnumeric_only\u001b[38;5;132;01m}\u001b[39;00m\u001b[38;5;124m \u001b[39m\u001b[38;5;124m\"\u001b[39m\n\u001b[0;32m   4667\u001b[0m         \u001b[38;5;124m\"\u001b[39m\u001b[38;5;124mwith non-numeric dtypes.\u001b[39m\u001b[38;5;124m\"\u001b[39m\n\u001b[0;32m   4668\u001b[0m     )\n\u001b[0;32m   4669\u001b[0m \u001b[38;5;28;01mwith\u001b[39;00m np\u001b[38;5;241m.\u001b[39merrstate(\u001b[38;5;28mall\u001b[39m\u001b[38;5;241m=\u001b[39m\u001b[38;5;124m\"\u001b[39m\u001b[38;5;124mignore\u001b[39m\u001b[38;5;124m\"\u001b[39m):\n\u001b[1;32m-> 4670\u001b[0m     \u001b[38;5;28;01mreturn\u001b[39;00m op(delegate, skipna\u001b[38;5;241m=\u001b[39mskipna, \u001b[38;5;241m*\u001b[39m\u001b[38;5;241m*\u001b[39mkwds)\n",
      "File \u001b[1;32m~\\anaconda3\\envs\\default_prediction\\lib\\site-packages\\pandas\\core\\nanops.py:158\u001b[0m, in \u001b[0;36mbottleneck_switch.__call__.<locals>.f\u001b[1;34m(values, axis, skipna, **kwds)\u001b[0m\n\u001b[0;32m    156\u001b[0m         result \u001b[38;5;241m=\u001b[39m alt(values, axis\u001b[38;5;241m=\u001b[39maxis, skipna\u001b[38;5;241m=\u001b[39mskipna, \u001b[38;5;241m*\u001b[39m\u001b[38;5;241m*\u001b[39mkwds)\n\u001b[0;32m    157\u001b[0m \u001b[38;5;28;01melse\u001b[39;00m:\n\u001b[1;32m--> 158\u001b[0m     result \u001b[38;5;241m=\u001b[39m alt(values, axis\u001b[38;5;241m=\u001b[39maxis, skipna\u001b[38;5;241m=\u001b[39mskipna, \u001b[38;5;241m*\u001b[39m\u001b[38;5;241m*\u001b[39mkwds)\n\u001b[0;32m    160\u001b[0m \u001b[38;5;28;01mreturn\u001b[39;00m result\n",
      "File \u001b[1;32m~\\anaconda3\\envs\\default_prediction\\lib\\site-packages\\pandas\\core\\nanops.py:421\u001b[0m, in \u001b[0;36m_datetimelike_compat.<locals>.new_func\u001b[1;34m(values, axis, skipna, mask, **kwargs)\u001b[0m\n\u001b[0;32m    418\u001b[0m \u001b[38;5;28;01mif\u001b[39;00m datetimelike \u001b[38;5;129;01mand\u001b[39;00m mask \u001b[38;5;129;01mis\u001b[39;00m \u001b[38;5;28;01mNone\u001b[39;00m:\n\u001b[0;32m    419\u001b[0m     mask \u001b[38;5;241m=\u001b[39m isna(values)\n\u001b[1;32m--> 421\u001b[0m result \u001b[38;5;241m=\u001b[39m func(values, axis\u001b[38;5;241m=\u001b[39maxis, skipna\u001b[38;5;241m=\u001b[39mskipna, mask\u001b[38;5;241m=\u001b[39mmask, \u001b[38;5;241m*\u001b[39m\u001b[38;5;241m*\u001b[39mkwargs)\n\u001b[0;32m    423\u001b[0m \u001b[38;5;28;01mif\u001b[39;00m datetimelike:\n\u001b[0;32m    424\u001b[0m     result \u001b[38;5;241m=\u001b[39m _wrap_results(result, orig_values\u001b[38;5;241m.\u001b[39mdtype, fill_value\u001b[38;5;241m=\u001b[39miNaT)\n",
      "File \u001b[1;32m~\\anaconda3\\envs\\default_prediction\\lib\\site-packages\\pandas\\core\\nanops.py:1094\u001b[0m, in \u001b[0;36m_nanminmax.<locals>.reduction\u001b[1;34m(values, axis, skipna, mask)\u001b[0m\n\u001b[0;32m   1092\u001b[0m         result \u001b[38;5;241m=\u001b[39m np\u001b[38;5;241m.\u001b[39mnan\n\u001b[0;32m   1093\u001b[0m \u001b[38;5;28;01melse\u001b[39;00m:\n\u001b[1;32m-> 1094\u001b[0m     result \u001b[38;5;241m=\u001b[39m \u001b[38;5;28;43mgetattr\u001b[39;49m\u001b[43m(\u001b[49m\u001b[43mvalues\u001b[49m\u001b[43m,\u001b[49m\u001b[43m \u001b[49m\u001b[43mmeth\u001b[49m\u001b[43m)\u001b[49m\u001b[43m(\u001b[49m\u001b[43maxis\u001b[49m\u001b[43m)\u001b[49m\n\u001b[0;32m   1096\u001b[0m result \u001b[38;5;241m=\u001b[39m _maybe_null_out(result, axis, mask, values\u001b[38;5;241m.\u001b[39mshape)\n\u001b[0;32m   1097\u001b[0m \u001b[38;5;28;01mreturn\u001b[39;00m result\n",
      "File \u001b[1;32m~\\anaconda3\\envs\\default_prediction\\lib\\site-packages\\numpy\\core\\_methods.py:45\u001b[0m, in \u001b[0;36m_amin\u001b[1;34m(a, axis, out, keepdims, initial, where)\u001b[0m\n\u001b[0;32m     43\u001b[0m \u001b[38;5;28;01mdef\u001b[39;00m \u001b[38;5;21m_amin\u001b[39m(a, axis\u001b[38;5;241m=\u001b[39m\u001b[38;5;28;01mNone\u001b[39;00m, out\u001b[38;5;241m=\u001b[39m\u001b[38;5;28;01mNone\u001b[39;00m, keepdims\u001b[38;5;241m=\u001b[39m\u001b[38;5;28;01mFalse\u001b[39;00m,\n\u001b[0;32m     44\u001b[0m           initial\u001b[38;5;241m=\u001b[39m_NoValue, where\u001b[38;5;241m=\u001b[39m\u001b[38;5;28;01mTrue\u001b[39;00m):\n\u001b[1;32m---> 45\u001b[0m     \u001b[38;5;28;01mreturn\u001b[39;00m \u001b[43mumr_minimum\u001b[49m\u001b[43m(\u001b[49m\u001b[43ma\u001b[49m\u001b[43m,\u001b[49m\u001b[43m \u001b[49m\u001b[43maxis\u001b[49m\u001b[43m,\u001b[49m\u001b[43m \u001b[49m\u001b[38;5;28;43;01mNone\u001b[39;49;00m\u001b[43m,\u001b[49m\u001b[43m \u001b[49m\u001b[43mout\u001b[49m\u001b[43m,\u001b[49m\u001b[43m \u001b[49m\u001b[43mkeepdims\u001b[49m\u001b[43m,\u001b[49m\u001b[43m \u001b[49m\u001b[43minitial\u001b[49m\u001b[43m,\u001b[49m\u001b[43m \u001b[49m\u001b[43mwhere\u001b[49m\u001b[43m)\u001b[49m\n",
      "\u001b[1;31mKeyboardInterrupt\u001b[0m: "
     ]
    }
   ],
   "source": [
    "df1.describe()"
   ]
  },
  {
   "cell_type": "code",
   "execution_count": null,
   "id": "7fbace05-5d9d-479a-9952-4af10d72b0da",
   "metadata": {
    "ExecuteTime": {
     "end_time": "2023-08-04T16:09:41.548037Z",
     "start_time": "2023-08-04T16:09:41.518303Z"
    }
   },
   "outputs": [],
   "source": [
    "df1.info()"
   ]
  },
  {
   "cell_type": "markdown",
   "id": "7d9a466c-32b5-4839-a889-ee94415c753f",
   "metadata": {},
   "source": [
    "## 1.3 Check NaNs"
   ]
  },
  {
   "cell_type": "code",
   "execution_count": 56,
   "id": "5565614a-05e4-4c40-92cc-caa891615bc3",
   "metadata": {},
   "outputs": [
    {
     "data": {
      "text/plain": [
       "customer_ID    0\n",
       "S_2            0\n",
       "P_2            0\n",
       "D_39           0\n",
       "B_1            0\n",
       "              ..\n",
       "D_142          0\n",
       "D_143          0\n",
       "D_144          0\n",
       "D_145          0\n",
       "target         0\n",
       "Length: 191, dtype: int64"
      ]
     },
     "execution_count": 56,
     "metadata": {},
     "output_type": "execute_result"
    }
   ],
   "source": [
    "df1.isna().sum()"
   ]
  },
  {
   "cell_type": "code",
   "execution_count": 55,
   "id": "b7e2aac4-818c-408a-ba11-05f10653b31c",
   "metadata": {},
   "outputs": [],
   "source": [
    "df1 = df1.fillna(0)"
   ]
  },
  {
   "cell_type": "markdown",
   "id": "a5ed093c-ed0d-4a6b-974a-e88ca44925b2",
   "metadata": {},
   "source": [
    "## 1.4 Check Data Types"
   ]
  },
  {
   "cell_type": "code",
   "execution_count": 34,
   "id": "11c5c516-6fc2-44ed-ace8-d06d634e3e86",
   "metadata": {},
   "outputs": [
    {
     "data": {
      "text/plain": [
       "customer_ID     object\n",
       "S_2             object\n",
       "P_2            float32\n",
       "D_39             int16\n",
       "B_1            float32\n",
       "                ...   \n",
       "D_142          float32\n",
       "D_143             int8\n",
       "D_144          float32\n",
       "D_145             int8\n",
       "target           int64\n",
       "Length: 191, dtype: object"
      ]
     },
     "execution_count": 34,
     "metadata": {},
     "output_type": "execute_result"
    }
   ],
   "source": [
    "df1.dtypes"
   ]
  },
  {
   "cell_type": "markdown",
   "id": "c8b49a70-cbbb-422b-9a44-af4f5f2b62f6",
   "metadata": {},
   "source": [
    "## 1.5 Dimensionality Reduction"
   ]
  },
  {
   "cell_type": "code",
   "execution_count": 66,
   "id": "6408e4d6-ce37-4f2c-8e4a-937695b88da9",
   "metadata": {},
   "outputs": [
    {
     "data": {
      "image/png": "[encoded data removed]",
      "text/plain": [
       "<Figure size 640x480 with 1 Axes>"
      ]
     },
     "metadata": {},
     "output_type": "display_data"
    }
   ],
   "source": [
    "# Create a MinMaxScaler instance\n",
    "scaler = MinMaxScaler()\n",
    "\n",
    "# Drop columns that you don't want to include in the analysis\n",
    "X = df1.drop(['customer_ID', 'S_2','target'], axis=1)\n",
    "\n",
    "# Scale the data using MinMaxScaler\n",
    "X_scaled = scaler.fit_transform(X)\n",
    "\n",
    "# Apply PCA\n",
    "pca = PCA()\n",
    "X_pca = pca.fit_transform(X_scaled)\n",
    "\n",
    "# Get the explained variance ratio of each principal component\n",
    "explained_variance_ratio = pca.explained_variance_ratio_\n",
    "\n",
    "# Calculate the cumulative explained variance\n",
    "cumulative_variance = np.cumsum(explained_variance_ratio)\n",
    "\n",
    "# Plot the cumulative explained variance\n",
    "plt.plot(range(1, len(cumulative_variance) + 1), cumulative_variance)\n",
    "plt.xlabel('Number of Principal Components')\n",
    "plt.ylabel('Cumulative Explained Variance')\n",
    "plt.title('Cumulative Explained Variance vs. Number of Principal Components')\n",
    "plt.show()\n"
   ]
  },
  {
   "cell_type": "code",
   "execution_count": 70,
   "id": "c2fd6e8a-e4c9-4759-a2ed-f6554e9971f8",
   "metadata": {},
   "outputs": [
    {
     "data": {
      "text/html": [
       "<div>\n",
       "<style scoped>\n",
       "    .dataframe tbody tr th:only-of-type {\n",
       "        vertical-align: middle;\n",
       "    }\n",
       "\n",
       "    .dataframe tbody tr th {\n",
       "        vertical-align: top;\n",
       "    }\n",
       "\n",
       "    .dataframe thead th {\n",
       "        text-align: right;\n",
       "    }\n",
       "</style>\n",
       "<table border=\"1\" class=\"dataframe\">\n",
       "  <thead>\n",
       "    <tr style=\"text-align: right;\">\n",
       "      <th></th>\n",
       "      <th>Column</th>\n",
       "      <th>Explained Variance Ratio</th>\n",
       "    </tr>\n",
       "  </thead>\n",
       "  <tbody>\n",
       "    <tr>\n",
       "      <th>0</th>\n",
       "      <td>P_2</td>\n",
       "      <td>2.033492e-01</td>\n",
       "    </tr>\n",
       "    <tr>\n",
       "      <th>1</th>\n",
       "      <td>D_39</td>\n",
       "      <td>1.049811e-01</td>\n",
       "    </tr>\n",
       "    <tr>\n",
       "      <th>2</th>\n",
       "      <td>B_1</td>\n",
       "      <td>6.829701e-02</td>\n",
       "    </tr>\n",
       "    <tr>\n",
       "      <th>3</th>\n",
       "      <td>B_2</td>\n",
       "      <td>6.391628e-02</td>\n",
       "    </tr>\n",
       "    <tr>\n",
       "      <th>4</th>\n",
       "      <td>R_1</td>\n",
       "      <td>4.288692e-02</td>\n",
       "    </tr>\n",
       "    <tr>\n",
       "      <th>...</th>\n",
       "      <td>...</td>\n",
       "      <td>...</td>\n",
       "    </tr>\n",
       "    <tr>\n",
       "      <th>183</th>\n",
       "      <td>D_141</td>\n",
       "      <td>1.283226e-07</td>\n",
       "    </tr>\n",
       "    <tr>\n",
       "      <th>184</th>\n",
       "      <td>D_142</td>\n",
       "      <td>8.028776e-08</td>\n",
       "    </tr>\n",
       "    <tr>\n",
       "      <th>185</th>\n",
       "      <td>D_143</td>\n",
       "      <td>4.965122e-08</td>\n",
       "    </tr>\n",
       "    <tr>\n",
       "      <th>186</th>\n",
       "      <td>D_144</td>\n",
       "      <td>2.154751e-09</td>\n",
       "    </tr>\n",
       "    <tr>\n",
       "      <th>187</th>\n",
       "      <td>D_145</td>\n",
       "      <td>4.617211e-17</td>\n",
       "    </tr>\n",
       "  </tbody>\n",
       "</table>\n",
       "<p>188 rows × 2 columns</p>\n",
       "</div>"
      ],
      "text/plain": [
       "    Column  Explained Variance Ratio\n",
       "0      P_2              2.033492e-01\n",
       "1     D_39              1.049811e-01\n",
       "2      B_1              6.829701e-02\n",
       "3      B_2              6.391628e-02\n",
       "4      R_1              4.288692e-02\n",
       "..     ...                       ...\n",
       "183  D_141              1.283226e-07\n",
       "184  D_142              8.028776e-08\n",
       "185  D_143              4.965122e-08\n",
       "186  D_144              2.154751e-09\n",
       "187  D_145              4.617211e-17\n",
       "\n",
       "[188 rows x 2 columns]"
      ]
     },
     "execution_count": 70,
     "metadata": {},
     "output_type": "execute_result"
    }
   ],
   "source": [
    "importance_df = pd.DataFrame({'Column': X.columns, 'Explained Variance Ratio': explained_variance_ratio})\n",
    "importance_df = importance_df.sort_values(by='Explained Variance Ratio', ascending=False)\n",
    "importance_df"
   ]
  },
  {
   "cell_type": "code",
   "execution_count": 71,
   "id": "704895fd-04a7-4cfa-8b9e-28cf8c8e8a94",
   "metadata": {},
   "outputs": [
    {
     "name": "stdout",
     "output_type": "stream",
     "text": [
      "Cumulative Variance for 5 components is 0.4834305638365455\n",
      "Cumulative Variance for 10 components is 0.6414427319054568\n",
      "Cumulative Variance for 20 components is 0.811439386842623\n",
      "Cumulative Variance for 25 components is 0.8511189737088529\n",
      "Cumulative Variance for 35 components is 0.9077847185677379\n",
      "Cumulative Variance for 50 components is 0.9605842551519567\n",
      "Cumulative Variance for 75 components is 0.9910115458474483\n",
      "Cumulative Variance for 100 components is 0.9983525048801329\n",
      "Cumulative Variance for 150 components is 0.9999602241079188\n",
      "Cumulative Variance for 170 components is 0.9999948278094183\n",
      "Cumulative Variance for 188 components is 0.9999999999999999\n"
     ]
    }
   ],
   "source": [
    "pontos = [5,10,20,25,35,50,75,100,150,170, 188]\n",
    "\n",
    "for components in pontos:\n",
    "    print(f\"Cumulative Variance for {components} components is {cumulative_variance[components-1]}\")"
   ]
  },
  {
   "cell_type": "code",
   "execution_count": 74,
   "id": "8c1b5a61-72a3-438b-9b52-021a9a0e5452",
   "metadata": {},
   "outputs": [
    {
     "name": "stdout",
     "output_type": "stream",
     "text": [
      "Número de componentes para alcançar 0.99 de variância cumulativa: 74\n"
     ]
    }
   ],
   "source": [
    "target_variance = 0.99\n",
    "num_components = np.argmax(cumulative_variance >= target_variance) + 1\n",
    "print(f\"Número de componentes para alcançar {target_variance:.2f} de variância cumulativa: {num_components}\")"
   ]
  },
  {
   "cell_type": "code",
   "execution_count": 78,
   "id": "4e62778a-b773-4f8e-8b50-e9f250019855",
   "metadata": {},
   "outputs": [],
   "source": [
    "#selecionar as 74 colunas mais importantes\n",
    "cols_selected = importance_df.Column.iloc[:74]"
   ]
  },
  {
   "cell_type": "markdown",
   "id": "263289f1-13a9-4290-a77c-483fc507728f",
   "metadata": {},
   "source": [
    "# 2.0 Feature Engineering"
   ]
  },
  {
   "cell_type": "code",
   "execution_count": 107,
   "id": "f39d39a4-9e64-45ad-97b9-c5219dd97dee",
   "metadata": {},
   "outputs": [],
   "source": [
    "df2 = df1[cols_selected]\n",
    "df2['target'] = df1.target\n",
    "df2['date'] = df1.S_2"
   ]
  },
  {
   "cell_type": "code",
   "execution_count": 110,
   "id": "bcebe100-98e0-4681-8bff-f4716d10b883",
   "metadata": {},
   "outputs": [],
   "source": [
    "df2['date'] = pd.to_datetime(df2['date'], format='%Y-%m-%d')"
   ]
  },
  {
   "cell_type": "code",
   "execution_count": 112,
   "id": "ffb291b8-8cc6-46ea-99e4-1d42c463844f",
   "metadata": {},
   "outputs": [],
   "source": [
    "df2['day'] = df2['date'].dt.day\n",
    "df2['month'] = df2['date'].dt.month\n",
    "df2['year'] = df2['date'].dt.year\n",
    "df2['week'] = df2['date'].dt.isocalendar().week\n",
    "df2['day_of_week'] = df2['date'].dt.dayofweek\n",
    "\n",
    "\n",
    "\n"
   ]
  },
  {
   "cell_type": "markdown",
   "id": "9bcb674b-9de6-46dd-8a08-1f3d7e3d39e6",
   "metadata": {},
   "source": [
    "# 2.0 EDA"
   ]
  },
  {
   "cell_type": "code",
   "execution_count": 88,
   "id": "91981e0f-9b95-4917-affd-34f30a8d7f06",
   "metadata": {},
   "outputs": [],
   "source": []
  },
  {
   "cell_type": "code",
   "execution_count": 96,
   "id": "59d2de2a-ce5f-497b-92b6-7434890c2c7e",
   "metadata": {},
   "outputs": [
    {
     "data": {
      "text/html": [
       "<div>\n",
       "<style scoped>\n",
       "    .dataframe tbody tr th:only-of-type {\n",
       "        vertical-align: middle;\n",
       "    }\n",
       "\n",
       "    .dataframe tbody tr th {\n",
       "        vertical-align: top;\n",
       "    }\n",
       "\n",
       "    .dataframe thead th {\n",
       "        text-align: right;\n",
       "    }\n",
       "</style>\n",
       "<table border=\"1\" class=\"dataframe\">\n",
       "  <thead>\n",
       "    <tr style=\"text-align: right;\">\n",
       "      <th></th>\n",
       "      <th>Coluna</th>\n",
       "      <th>Correlação</th>\n",
       "    </tr>\n",
       "  </thead>\n",
       "  <tbody>\n",
       "    <tr>\n",
       "      <th>17</th>\n",
       "      <td>D_48</td>\n",
       "      <td>0.527728</td>\n",
       "    </tr>\n",
       "    <tr>\n",
       "      <th>24</th>\n",
       "      <td>B_9</td>\n",
       "      <td>0.475858</td>\n",
       "    </tr>\n",
       "    <tr>\n",
       "      <th>42</th>\n",
       "      <td>D_58</td>\n",
       "      <td>0.448642</td>\n",
       "    </tr>\n",
       "    <tr>\n",
       "      <th>38</th>\n",
       "      <td>D_55</td>\n",
       "      <td>0.448513</td>\n",
       "    </tr>\n",
       "    <tr>\n",
       "      <th>10</th>\n",
       "      <td>D_44</td>\n",
       "      <td>0.447288</td>\n",
       "    </tr>\n",
       "    <tr>\n",
       "      <th>...</th>\n",
       "      <td>...</td>\n",
       "      <td>...</td>\n",
       "    </tr>\n",
       "    <tr>\n",
       "      <th>16</th>\n",
       "      <td>D_47</td>\n",
       "      <td>-0.280046</td>\n",
       "    </tr>\n",
       "    <tr>\n",
       "      <th>50</th>\n",
       "      <td>D_62</td>\n",
       "      <td>-0.284580</td>\n",
       "    </tr>\n",
       "    <tr>\n",
       "      <th>3</th>\n",
       "      <td>B_2</td>\n",
       "      <td>-0.482877</td>\n",
       "    </tr>\n",
       "    <tr>\n",
       "      <th>56</th>\n",
       "      <td>B_18</td>\n",
       "      <td>-0.487652</td>\n",
       "    </tr>\n",
       "    <tr>\n",
       "      <th>0</th>\n",
       "      <td>P_2</td>\n",
       "      <td>-0.591108</td>\n",
       "    </tr>\n",
       "  </tbody>\n",
       "</table>\n",
       "<p>74 rows × 2 columns</p>\n",
       "</div>"
      ],
      "text/plain": [
       "   Coluna  Correlação\n",
       "17   D_48    0.527728\n",
       "24    B_9    0.475858\n",
       "42   D_58    0.448642\n",
       "38   D_55    0.448513\n",
       "10   D_44    0.447288\n",
       "..    ...         ...\n",
       "16   D_47   -0.280046\n",
       "50   D_62   -0.284580\n",
       "3     B_2   -0.482877\n",
       "56   B_18   -0.487652\n",
       "0     P_2   -0.591108\n",
       "\n",
       "[74 rows x 2 columns]"
      ]
     },
     "execution_count": 96,
     "metadata": {},
     "output_type": "execute_result"
    }
   ],
   "source": [
    "#Look at the most important columns\n",
    "correlation_dict = {}\n",
    "\n",
    "for col in df2.columns:\n",
    "    if col != 'target':\n",
    "        correlation = df2[col].corr(df2['target'])\n",
    "        correlation_dict[col] = correlation\n",
    "correlation_df = pd.DataFrame(list(correlation_dict.items()), columns=['Coluna', 'Correlação']) \n",
    "correlation_df = correlation_df.sort_values(by='Correlação', ascending=False)\n",
    "correlation_df"
   ]
  },
  {
   "cell_type": "code",
   "execution_count": 100,
   "id": "fe4d3984-0fb2-439a-9c91-635d3b9c3f41",
   "metadata": {},
   "outputs": [
    {
     "data": {
      "text/plain": [
       "<Axes: >"
      ]
     },
     "execution_count": 100,
     "metadata": {},
     "output_type": "execute_result"
    },
    {
     "data": {
      "image/png": "[encoded data removed]",
      "text/plain": [
       "<Figure size 1200x600 with 1 Axes>"
      ]
     },
     "metadata": {},
     "output_type": "display_data"
    }
   ],
   "source": [
    "#Look at P_2\n",
    "sns.violinplot(df2['P_2'])"
   ]
  },
  {
   "cell_type": "code",
   "execution_count": 105,
   "id": "f0042c41-5147-41b4-b3a3-5eaf1c955ff0",
   "metadata": {},
   "outputs": [
    {
     "ename": "ValueError",
     "evalue": "RGBA sequence should have length 3 or 4",
     "output_type": "error",
     "traceback": [
      "\u001b[1;31m---------------------------------------------------------------------------\u001b[0m",
      "\u001b[1;31mValueError\u001b[0m                                Traceback (most recent call last)",
      "Cell \u001b[1;32mIn[105], line 1\u001b[0m\n\u001b[1;32m----> 1\u001b[0m \u001b[43msns\u001b[49m\u001b[38;5;241;43m.\u001b[39;49m\u001b[43mhistplot\u001b[49m\u001b[43m(\u001b[49m\u001b[43mdf2\u001b[49m\u001b[43m[\u001b[49m\u001b[38;5;124;43m'\u001b[39;49m\u001b[38;5;124;43mP_2\u001b[39;49m\u001b[38;5;124;43m'\u001b[39;49m\u001b[43m]\u001b[49m\u001b[43m,\u001b[49m\u001b[43m \u001b[49m\u001b[43mcolor\u001b[49m\u001b[38;5;241;43m=\u001b[39;49m\u001b[43mdf2\u001b[49m\u001b[43m[\u001b[49m\u001b[38;5;124;43m'\u001b[39;49m\u001b[38;5;124;43mtarget\u001b[39;49m\u001b[38;5;124;43m'\u001b[39;49m\u001b[43m]\u001b[49m\u001b[43m)\u001b[49m\n",
      "File \u001b[1;32m~\\anaconda3\\envs\\default_prediction\\lib\\site-packages\\seaborn\\distributions.py:1432\u001b[0m, in \u001b[0;36mhistplot\u001b[1;34m(data, x, y, hue, weights, stat, bins, binwidth, binrange, discrete, cumulative, common_bins, common_norm, multiple, element, fill, shrink, kde, kde_kws, line_kws, thresh, pthresh, pmax, cbar, cbar_ax, cbar_kws, palette, hue_order, hue_norm, color, log_scale, legend, ax, **kwargs)\u001b[0m\n\u001b[0;32m   1421\u001b[0m estimate_kws \u001b[38;5;241m=\u001b[39m \u001b[38;5;28mdict\u001b[39m(\n\u001b[0;32m   1422\u001b[0m     stat\u001b[38;5;241m=\u001b[39mstat,\n\u001b[0;32m   1423\u001b[0m     bins\u001b[38;5;241m=\u001b[39mbins,\n\u001b[1;32m   (...)\u001b[0m\n\u001b[0;32m   1427\u001b[0m     cumulative\u001b[38;5;241m=\u001b[39mcumulative,\n\u001b[0;32m   1428\u001b[0m )\n\u001b[0;32m   1430\u001b[0m \u001b[38;5;28;01mif\u001b[39;00m p\u001b[38;5;241m.\u001b[39munivariate:\n\u001b[1;32m-> 1432\u001b[0m     p\u001b[38;5;241m.\u001b[39mplot_univariate_histogram(\n\u001b[0;32m   1433\u001b[0m         multiple\u001b[38;5;241m=\u001b[39mmultiple,\n\u001b[0;32m   1434\u001b[0m         element\u001b[38;5;241m=\u001b[39melement,\n\u001b[0;32m   1435\u001b[0m         fill\u001b[38;5;241m=\u001b[39mfill,\n\u001b[0;32m   1436\u001b[0m         shrink\u001b[38;5;241m=\u001b[39mshrink,\n\u001b[0;32m   1437\u001b[0m         common_norm\u001b[38;5;241m=\u001b[39mcommon_norm,\n\u001b[0;32m   1438\u001b[0m         common_bins\u001b[38;5;241m=\u001b[39mcommon_bins,\n\u001b[0;32m   1439\u001b[0m         kde\u001b[38;5;241m=\u001b[39mkde,\n\u001b[0;32m   1440\u001b[0m         kde_kws\u001b[38;5;241m=\u001b[39mkde_kws,\n\u001b[0;32m   1441\u001b[0m         color\u001b[38;5;241m=\u001b[39mcolor,\n\u001b[0;32m   1442\u001b[0m         legend\u001b[38;5;241m=\u001b[39mlegend,\n\u001b[0;32m   1443\u001b[0m         estimate_kws\u001b[38;5;241m=\u001b[39mestimate_kws,\n\u001b[0;32m   1444\u001b[0m         line_kws\u001b[38;5;241m=\u001b[39mline_kws,\n\u001b[0;32m   1445\u001b[0m         \u001b[38;5;241m*\u001b[39m\u001b[38;5;241m*\u001b[39mkwargs,\n\u001b[0;32m   1446\u001b[0m     )\n\u001b[0;32m   1448\u001b[0m \u001b[38;5;28;01melse\u001b[39;00m:\n\u001b[0;32m   1450\u001b[0m     p\u001b[38;5;241m.\u001b[39mplot_bivariate_histogram(\n\u001b[0;32m   1451\u001b[0m         common_bins\u001b[38;5;241m=\u001b[39mcommon_bins,\n\u001b[0;32m   1452\u001b[0m         common_norm\u001b[38;5;241m=\u001b[39mcommon_norm,\n\u001b[1;32m   (...)\u001b[0m\n\u001b[0;32m   1462\u001b[0m         \u001b[38;5;241m*\u001b[39m\u001b[38;5;241m*\u001b[39mkwargs,\n\u001b[0;32m   1463\u001b[0m     )\n",
      "File \u001b[1;32m~\\anaconda3\\envs\\default_prediction\\lib\\site-packages\\seaborn\\distributions.py:566\u001b[0m, in \u001b[0;36m_DistributionPlotter.plot_univariate_histogram\u001b[1;34m(self, multiple, element, fill, common_norm, common_bins, shrink, kde, kde_kws, color, legend, line_kws, estimate_kws, **plot_kws)\u001b[0m\n\u001b[0;32m    563\u001b[0m \u001b[38;5;28;01melse\u001b[39;00m:\n\u001b[0;32m    564\u001b[0m     sub_color \u001b[38;5;241m=\u001b[39m color\n\u001b[1;32m--> 566\u001b[0m artist_kws \u001b[38;5;241m=\u001b[39m \u001b[38;5;28;43mself\u001b[39;49m\u001b[38;5;241;43m.\u001b[39;49m\u001b[43m_artist_kws\u001b[49m\u001b[43m(\u001b[49m\n\u001b[0;32m    567\u001b[0m \u001b[43m    \u001b[49m\u001b[43mplot_kws\u001b[49m\u001b[43m,\u001b[49m\u001b[43m \u001b[49m\u001b[43mfill\u001b[49m\u001b[43m,\u001b[49m\u001b[43m \u001b[49m\u001b[43melement\u001b[49m\u001b[43m,\u001b[49m\u001b[43m \u001b[49m\u001b[43mmultiple\u001b[49m\u001b[43m,\u001b[49m\u001b[43m \u001b[49m\u001b[43msub_color\u001b[49m\u001b[43m,\u001b[49m\u001b[43m \u001b[49m\u001b[43malpha\u001b[49m\n\u001b[0;32m    568\u001b[0m \u001b[43m\u001b[49m\u001b[43m)\u001b[49m\n\u001b[0;32m    570\u001b[0m \u001b[38;5;28;01mif\u001b[39;00m element \u001b[38;5;241m==\u001b[39m \u001b[38;5;124m\"\u001b[39m\u001b[38;5;124mbars\u001b[39m\u001b[38;5;124m\"\u001b[39m:\n\u001b[0;32m    571\u001b[0m \n\u001b[0;32m    572\u001b[0m     \u001b[38;5;66;03m# Use matplotlib bar plotting\u001b[39;00m\n\u001b[0;32m    574\u001b[0m     plot_func \u001b[38;5;241m=\u001b[39m ax\u001b[38;5;241m.\u001b[39mbar \u001b[38;5;28;01mif\u001b[39;00m \u001b[38;5;28mself\u001b[39m\u001b[38;5;241m.\u001b[39mdata_variable \u001b[38;5;241m==\u001b[39m \u001b[38;5;124m\"\u001b[39m\u001b[38;5;124mx\u001b[39m\u001b[38;5;124m\"\u001b[39m \u001b[38;5;28;01melse\u001b[39;00m ax\u001b[38;5;241m.\u001b[39mbarh\n",
      "File \u001b[1;32m~\\anaconda3\\envs\\default_prediction\\lib\\site-packages\\seaborn\\distributions.py:178\u001b[0m, in \u001b[0;36m_DistributionPlotter._artist_kws\u001b[1;34m(self, kws, fill, element, multiple, color, alpha)\u001b[0m\n\u001b[0;32m    176\u001b[0m \u001b[38;5;28;01mif\u001b[39;00m fill:\n\u001b[0;32m    177\u001b[0m     kws \u001b[38;5;241m=\u001b[39m _normalize_kwargs(kws, mpl\u001b[38;5;241m.\u001b[39mcollections\u001b[38;5;241m.\u001b[39mPolyCollection)\n\u001b[1;32m--> 178\u001b[0m     kws\u001b[38;5;241m.\u001b[39msetdefault(\u001b[38;5;124m\"\u001b[39m\u001b[38;5;124mfacecolor\u001b[39m\u001b[38;5;124m\"\u001b[39m, \u001b[43mto_rgba\u001b[49m\u001b[43m(\u001b[49m\u001b[43mcolor\u001b[49m\u001b[43m,\u001b[49m\u001b[43m \u001b[49m\u001b[43malpha\u001b[49m\u001b[43m)\u001b[49m)\n\u001b[0;32m    180\u001b[0m     \u001b[38;5;28;01mif\u001b[39;00m element \u001b[38;5;241m==\u001b[39m \u001b[38;5;124m\"\u001b[39m\u001b[38;5;124mbars\u001b[39m\u001b[38;5;124m\"\u001b[39m:\n\u001b[0;32m    181\u001b[0m         \u001b[38;5;66;03m# Make bar() interface with property cycle correctly\u001b[39;00m\n\u001b[0;32m    182\u001b[0m         \u001b[38;5;66;03m# https://github.com/matplotlib/matplotlib/issues/19385\u001b[39;00m\n\u001b[0;32m    183\u001b[0m         kws[\u001b[38;5;124m\"\u001b[39m\u001b[38;5;124mcolor\u001b[39m\u001b[38;5;124m\"\u001b[39m] \u001b[38;5;241m=\u001b[39m \u001b[38;5;124m\"\u001b[39m\u001b[38;5;124mnone\u001b[39m\u001b[38;5;124m\"\u001b[39m\n",
      "File \u001b[1;32m~\\anaconda3\\envs\\default_prediction\\lib\\site-packages\\matplotlib\\colors.py:299\u001b[0m, in \u001b[0;36mto_rgba\u001b[1;34m(c, alpha)\u001b[0m\n\u001b[0;32m    297\u001b[0m     rgba \u001b[38;5;241m=\u001b[39m \u001b[38;5;28;01mNone\u001b[39;00m\n\u001b[0;32m    298\u001b[0m \u001b[38;5;28;01mif\u001b[39;00m rgba \u001b[38;5;129;01mis\u001b[39;00m \u001b[38;5;28;01mNone\u001b[39;00m:  \u001b[38;5;66;03m# Suppress exception chaining of cache lookup failure.\u001b[39;00m\n\u001b[1;32m--> 299\u001b[0m     rgba \u001b[38;5;241m=\u001b[39m \u001b[43m_to_rgba_no_colorcycle\u001b[49m\u001b[43m(\u001b[49m\u001b[43mc\u001b[49m\u001b[43m,\u001b[49m\u001b[43m \u001b[49m\u001b[43malpha\u001b[49m\u001b[43m)\u001b[49m\n\u001b[0;32m    300\u001b[0m     \u001b[38;5;28;01mtry\u001b[39;00m:\n\u001b[0;32m    301\u001b[0m         _colors_full_map\u001b[38;5;241m.\u001b[39mcache[c, alpha] \u001b[38;5;241m=\u001b[39m rgba\n",
      "File \u001b[1;32m~\\anaconda3\\envs\\default_prediction\\lib\\site-packages\\matplotlib\\colors.py:383\u001b[0m, in \u001b[0;36m_to_rgba_no_colorcycle\u001b[1;34m(c, alpha)\u001b[0m\n\u001b[0;32m    381\u001b[0m     \u001b[38;5;28;01mraise\u001b[39;00m \u001b[38;5;167;01mValueError\u001b[39;00m(\u001b[38;5;124mf\u001b[39m\u001b[38;5;124m\"\u001b[39m\u001b[38;5;124mInvalid RGBA argument: \u001b[39m\u001b[38;5;132;01m{\u001b[39;00morig_c\u001b[38;5;132;01m!r}\u001b[39;00m\u001b[38;5;124m\"\u001b[39m)\n\u001b[0;32m    382\u001b[0m \u001b[38;5;28;01mif\u001b[39;00m \u001b[38;5;28mlen\u001b[39m(c) \u001b[38;5;129;01mnot\u001b[39;00m \u001b[38;5;129;01min\u001b[39;00m [\u001b[38;5;241m3\u001b[39m, \u001b[38;5;241m4\u001b[39m]:\n\u001b[1;32m--> 383\u001b[0m     \u001b[38;5;28;01mraise\u001b[39;00m \u001b[38;5;167;01mValueError\u001b[39;00m(\u001b[38;5;124m\"\u001b[39m\u001b[38;5;124mRGBA sequence should have length 3 or 4\u001b[39m\u001b[38;5;124m\"\u001b[39m)\n\u001b[0;32m    384\u001b[0m \u001b[38;5;28;01mif\u001b[39;00m \u001b[38;5;129;01mnot\u001b[39;00m \u001b[38;5;28mall\u001b[39m(\u001b[38;5;28misinstance\u001b[39m(x, Number) \u001b[38;5;28;01mfor\u001b[39;00m x \u001b[38;5;129;01min\u001b[39;00m c):\n\u001b[0;32m    385\u001b[0m     \u001b[38;5;66;03m# Checks that don't work: `map(float, ...)`, `np.array(..., float)` and\u001b[39;00m\n\u001b[0;32m    386\u001b[0m     \u001b[38;5;66;03m# `np.array(...).astype(float)` would all convert \"0.5\" to 0.5.\u001b[39;00m\n\u001b[0;32m    387\u001b[0m     \u001b[38;5;28;01mraise\u001b[39;00m \u001b[38;5;167;01mValueError\u001b[39;00m(\u001b[38;5;124mf\u001b[39m\u001b[38;5;124m\"\u001b[39m\u001b[38;5;124mInvalid RGBA argument: \u001b[39m\u001b[38;5;132;01m{\u001b[39;00morig_c\u001b[38;5;132;01m!r}\u001b[39;00m\u001b[38;5;124m\"\u001b[39m)\n",
      "\u001b[1;31mValueError\u001b[0m: RGBA sequence should have length 3 or 4"
     ]
    },
    {
     "data": {
      "image/png": "[encoded data removed]",
      "text/plain": [
       "<Figure size 1200x600 with 1 Axes>"
      ]
     },
     "metadata": {},
     "output_type": "display_data"
    }
   ],
   "source": [
    "sns.histplot(df2['P_2'])"
   ]
  },
  {
   "cell_type": "code",
   "execution_count": null,
   "id": "79fe9486-2fbf-4c62-bde7-74f53a434516",
   "metadata": {},
   "outputs": [],
   "source": []
  },
  {
   "cell_type": "markdown",
   "id": "72e4f1cc-6ceb-4807-9e2d-01fcc159e253",
   "metadata": {},
   "source": [
    "# 3.0 Preprocessing"
   ]
  },
  {
   "cell_type": "code",
   "execution_count": 92,
   "id": "0fb62664-cf0d-4f6d-901f-6cc1d38cc748",
   "metadata": {},
   "outputs": [],
   "source": [
    "mms = MinMaxScaler()\n",
    "\n",
    "X = df1.drop(['target','customer_ID','S_2'], axis=1)\n",
    "y = df1.target\n",
    "\n",
    "X_scaled = mms.fit_transform(X)"
   ]
  },
  {
   "cell_type": "markdown",
   "id": "b63855e3-9c6e-4c1d-a758-e3f08a3e81ee",
   "metadata": {},
   "source": [
    "# 4.0 Machine Learning"
   ]
  },
  {
   "cell_type": "code",
   "execution_count": 93,
   "id": "faa0f8e9-3f7c-482f-91ab-1408d6eb3c92",
   "metadata": {},
   "outputs": [],
   "source": [
    "#Split Train-Val\n",
    "X_train, X_val, y_train, y_val = train_test_split(X, y, stratify=y, test_size=0.2, random_state=42)"
   ]
  },
  {
   "cell_type": "markdown",
   "id": "32059ac9-35ff-4ee6-b175-7104141f7221",
   "metadata": {},
   "source": [
    "## 4.1 Random Forest"
   ]
  },
  {
   "cell_type": "code",
   "execution_count": 94,
   "id": "ecde7c3e-2cbd-4dfb-8ed0-4dae33177041",
   "metadata": {},
   "outputs": [],
   "source": [
    "rf = RandomForestClassifier()\n",
    "\n",
    "rf.fit(X_train, y_train)\n",
    "\n",
    "y_pred_rf = rf.predict(X_val)"
   ]
  },
  {
   "cell_type": "code",
   "execution_count": 95,
   "id": "e22bd49c-179d-47ac-9162-2123c2d1af90",
   "metadata": {},
   "outputs": [
    {
     "data": {
      "text/html": [
       "<div>\n",
       "<style scoped>\n",
       "    .dataframe tbody tr th:only-of-type {\n",
       "        vertical-align: middle;\n",
       "    }\n",
       "\n",
       "    .dataframe tbody tr th {\n",
       "        vertical-align: top;\n",
       "    }\n",
       "\n",
       "    .dataframe thead th {\n",
       "        text-align: right;\n",
       "    }\n",
       "</style>\n",
       "<table border=\"1\" class=\"dataframe\">\n",
       "  <thead>\n",
       "    <tr style=\"text-align: right;\">\n",
       "      <th></th>\n",
       "      <th>F1 Score</th>\n",
       "      <th>Accuracy</th>\n",
       "      <th>Precision</th>\n",
       "      <th>Recall</th>\n",
       "      <th>ROC AUC</th>\n",
       "    </tr>\n",
       "  </thead>\n",
       "  <tbody>\n",
       "    <tr>\n",
       "      <th>0</th>\n",
       "      <td>0.754805</td>\n",
       "      <td>0.87982</td>\n",
       "      <td>0.764696</td>\n",
       "      <td>0.745166</td>\n",
       "      <td>0.834725</td>\n",
       "    </tr>\n",
       "  </tbody>\n",
       "</table>\n",
       "</div>"
      ],
      "text/plain": [
       "   F1 Score  Accuracy  Precision    Recall   ROC AUC\n",
       "0  0.754805   0.87982   0.764696  0.745166  0.834725"
      ]
     },
     "execution_count": 95,
     "metadata": {},
     "output_type": "execute_result"
    }
   ],
   "source": [
    "class_metrics(y_val, y_pred_rf)"
   ]
  },
  {
   "cell_type": "markdown",
   "id": "75c61427-9a4d-4842-978d-5413174b1fc9",
   "metadata": {},
   "source": [
    "## 4.2 XGBoost"
   ]
  },
  {
   "cell_type": "code",
   "execution_count": 96,
   "id": "63871b92-d093-4be5-a0e5-8c7c46abe5d0",
   "metadata": {},
   "outputs": [],
   "source": [
    "xgb = XGBClassifier()\n",
    "\n",
    "xgb.fit(X_train, y_train)\n",
    "\n",
    "y_pred_xgb = xgb.predict(X_val)"
   ]
  },
  {
   "cell_type": "code",
   "execution_count": 97,
   "id": "4aebacd9-dbbb-4381-a157-6414804cfec3",
   "metadata": {},
   "outputs": [
    {
     "data": {
      "text/html": [
       "<div>\n",
       "<style scoped>\n",
       "    .dataframe tbody tr th:only-of-type {\n",
       "        vertical-align: middle;\n",
       "    }\n",
       "\n",
       "    .dataframe tbody tr th {\n",
       "        vertical-align: top;\n",
       "    }\n",
       "\n",
       "    .dataframe thead th {\n",
       "        text-align: right;\n",
       "    }\n",
       "</style>\n",
       "<table border=\"1\" class=\"dataframe\">\n",
       "  <thead>\n",
       "    <tr style=\"text-align: right;\">\n",
       "      <th></th>\n",
       "      <th>F1 Score</th>\n",
       "      <th>Accuracy</th>\n",
       "      <th>Precision</th>\n",
       "      <th>Recall</th>\n",
       "      <th>ROC AUC</th>\n",
       "    </tr>\n",
       "  </thead>\n",
       "  <tbody>\n",
       "    <tr>\n",
       "      <th>0</th>\n",
       "      <td>0.751853</td>\n",
       "      <td>0.87777</td>\n",
       "      <td>0.757868</td>\n",
       "      <td>0.745931</td>\n",
       "      <td>0.833618</td>\n",
       "    </tr>\n",
       "  </tbody>\n",
       "</table>\n",
       "</div>"
      ],
      "text/plain": [
       "   F1 Score  Accuracy  Precision    Recall   ROC AUC\n",
       "0  0.751853   0.87777   0.757868  0.745931  0.833618"
      ]
     },
     "execution_count": 97,
     "metadata": {},
     "output_type": "execute_result"
    }
   ],
   "source": [
    "class_metrics(y_val, y_pred_xgb)"
   ]
  },
  {
   "cell_type": "markdown",
   "id": "96121aae-4073-4ceb-9553-7bbbd44b798e",
   "metadata": {},
   "source": [
    "## 4.2 Logistic Regression"
   ]
  },
  {
   "cell_type": "code",
   "execution_count": 99,
   "id": "bbd1fe59-af5d-4a07-b370-0574dfb26301",
   "metadata": {},
   "outputs": [],
   "source": [
    "lr = LogisticRegression()\n",
    "\n",
    "lr.fit(X_train, y_train)\n",
    "\n",
    "y_pred_lr = lr.predict(X_val)"
   ]
  },
  {
   "cell_type": "code",
   "execution_count": 100,
   "id": "a4f84f01-b8d2-46bb-a848-170868c36972",
   "metadata": {},
   "outputs": [
    {
     "data": {
      "text/html": [
       "<div>\n",
       "<style scoped>\n",
       "    .dataframe tbody tr th:only-of-type {\n",
       "        vertical-align: middle;\n",
       "    }\n",
       "\n",
       "    .dataframe tbody tr th {\n",
       "        vertical-align: top;\n",
       "    }\n",
       "\n",
       "    .dataframe thead th {\n",
       "        text-align: right;\n",
       "    }\n",
       "</style>\n",
       "<table border=\"1\" class=\"dataframe\">\n",
       "  <thead>\n",
       "    <tr style=\"text-align: right;\">\n",
       "      <th></th>\n",
       "      <th>F1 Score</th>\n",
       "      <th>Accuracy</th>\n",
       "      <th>Precision</th>\n",
       "      <th>Recall</th>\n",
       "      <th>ROC AUC</th>\n",
       "    </tr>\n",
       "  </thead>\n",
       "  <tbody>\n",
       "    <tr>\n",
       "      <th>0</th>\n",
       "      <td>0.635972</td>\n",
       "      <td>0.83697</td>\n",
       "      <td>0.713441</td>\n",
       "      <td>0.573679</td>\n",
       "      <td>0.748795</td>\n",
       "    </tr>\n",
       "  </tbody>\n",
       "</table>\n",
       "</div>"
      ],
      "text/plain": [
       "   F1 Score  Accuracy  Precision    Recall   ROC AUC\n",
       "0  0.635972   0.83697   0.713441  0.573679  0.748795"
      ]
     },
     "execution_count": 100,
     "metadata": {},
     "output_type": "execute_result"
    }
   ],
   "source": [
    "class_metrics(y_val, y_pred_lr)"
   ]
  },
  {
   "cell_type": "code",
   "execution_count": null,
   "id": "8f3494ee-aa13-492c-bedd-7ed9659fbdab",
   "metadata": {},
   "outputs": [],
   "source": []
  },
  {
   "cell_type": "code",
   "execution_count": null,
   "id": "79263fe5-d00f-4012-8653-432e4584d098",
   "metadata": {},
   "outputs": [],
   "source": []
  },
  {
   "cell_type": "code",
   "execution_count": null,
   "id": "772c6982-2420-476c-adac-6e90d87008e7",
   "metadata": {},
   "outputs": [],
   "source": []
  },
  {
   "cell_type": "code",
   "execution_count": null,
   "id": "e39f2826-081a-4308-9267-8aa8e09c0ba7",
   "metadata": {},
   "outputs": [],
   "source": []
  },
  {
   "cell_type": "code",
   "execution_count": null,
   "id": "4c97f428-ae37-4993-9fa1-946a90f33d05",
   "metadata": {},
   "outputs": [],
   "source": []
  }
 ],
 "metadata": {
  "kernelspec": {
   "display_name": "Python 3 (ipykernel)",
   "language": "python",
   "name": "python3"
  },
  "language_info": {
   "codemirror_mode": {
    "name": "ipython",
    "version": 3
   },
   "file_extension": ".py",
   "mimetype": "text/x-python",
   "name": "python",
   "nbconvert_exporter": "python",
   "pygments_lexer": "ipython3",
   "version": "3.10.12"
  }
 },
 "nbformat": 4,
 "nbformat_minor": 5
}
