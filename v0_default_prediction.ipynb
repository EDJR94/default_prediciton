{
 "cells": [
  {
   "cell_type": "markdown",
   "id": "db1a888c-f494-4914-aa9f-53280f336d7b",
   "metadata": {},
   "source": [
    "---\n",
    "# Business Probleam\n",
    "The objective of this competition is to predict the probability that a customer does not pay back their credit card balance amount in the future based on their monthly customer profile. The target binary variable is calculated by observing 18 months performance window after the latest credit card statement, and if the customer does not pay due amount in 120 days after their latest statement date it is considered a default event.\n",
    "\n",
    "The dataset contains aggregated profile features for each customer at each statement date. Features are anonymized and normalized, and fall into the following general categories:\n",
    "\n",
    "- D_* = Delinquency variables\n",
    "- \n",
    "S_* = Spend variables- \n",
    "P_* = Payment variable- s\n",
    "B_* = Balance variabl- es\n",
    "R_* = Risk var\n",
    "\n",
    "\n",
    "with the following features being categorical:\n",
    "\n",
    "['B_30', 'B_38', 'D_114', 'D_116', 'D_117', 'D_120', 'D_126', 'D_63', 'D_64', 'D_66', 'D_68\n",
    "\n",
    "---']iables"
   ]
  },
  {
   "cell_type": "code",
   "execution_count": null,
   "id": "f70604bf-d7ce-4bc5-9ad6-a43941a8b48b",
   "metadata": {},
   "outputs": [],
   "source": []
  },
  {
   "cell_type": "code",
   "execution_count": null,
   "id": "c421d993-3fc5-4d5e-b36e-47b52c291a00",
   "metadata": {},
   "outputs": [],
   "source": []
  },
  {
   "cell_type": "markdown",
   "id": "33d0b006-4b20-4f5e-adef-7e3ffb6d30cb",
   "metadata": {},
   "source": [
    "# 0.0 Imports"
   ]
  },
  {
   "cell_type": "code",
   "execution_count": 98,
   "id": "d5754054-5fa0-4270-944c-5aa63d5a1e1d",
   "metadata": {
    "ExecuteTime": {
     "end_time": "2023-08-04T16:08:54.073070Z",
     "start_time": "2023-08-04T16:08:54.059780Z"
    }
   },
   "outputs": [],
   "source": [
    "import pandas as pd\n",
    "import numpy as np\n",
    "import matplotlib.pyplot as plt\n",
    "import warnings\n",
    "\n",
    "#from dtype_diet import report_on_dataframe\n",
    "\n",
    "from sklearn.preprocessing import MinMaxScaler\n",
    "from sklearn.decomposition import PCA\n",
    "from sklearn.tree import DecisionTreeClassifier\n",
    "from sklearn.ensemble import RandomForestClassifier\n",
    "from sklearn import metrics as mt\n",
    "from sklearn.model_selection import train_test_split\n",
    "from xgboost import XGBClassifier\n",
    "from lightgbm import LGBMClassifier\n",
    "from catboost import CatBoostClassifier\n",
    "from sklearn.linear_model import LogisticRegression\n",
    "\n",
    "\n",
    "import ydata_profiling as yd\n",
    "import sweetviz as sv\n",
    "\n",
    "warnings.filterwarnings('ignore')"
   ]
  },
  {
   "cell_type": "markdown",
   "id": "27703aa6-e798-4f6b-8c32-372af0abd44f",
   "metadata": {},
   "source": [
    "## Helper Functions"
   ]
  },
  {
   "cell_type": "code",
   "execution_count": 72,
   "id": "b5dee8ff-0358-4dfd-9d53-b9fae30ab25d",
   "metadata": {},
   "outputs": [],
   "source": [
    "def class_metrics(y_true, y_pred):\n",
    "\n",
    "    f1_score = mt.f1_score(y_true, y_pred)\n",
    "    accuracy = mt.accuracy_score(y_true, y_pred)\n",
    "    precision = mt.precision_score(y_true, y_pred)\n",
    "    recall = mt.recall_score(y_true, y_pred)\n",
    "    roc_auc = mt.roc_auc_score(y_true, y_pred)\n",
    "\n",
    "    return pd.DataFrame({\n",
    "        'F1 Score':f1_score,\n",
    "        'Accuracy':accuracy,\n",
    "        'Precision':precision,\n",
    "        'Recall':recall,\n",
    "        'ROC AUC':roc_auc,\n",
    "        \n",
    "        \n",
    "    }, index=[0])\n"
   ]
  },
  {
   "cell_type": "markdown",
   "id": "e9c98f61-8803-453a-9d84-f003d9f9be22",
   "metadata": {},
   "source": [
    "## Load Data"
   ]
  },
  {
   "cell_type": "code",
   "execution_count": 77,
   "id": "a795f8cc-18e7-41ac-bf57-70b81eea8d63",
   "metadata": {
    "ExecuteTime": {
     "end_time": "2023-08-04T16:09:36.716770Z",
     "start_time": "2023-08-04T16:09:29.401043Z"
    }
   },
   "outputs": [],
   "source": [
    "path = 'C:/Users/edils/Documents/amex_dataset/'\n",
    "\n",
    "train_data = pd.read_parquet(path + 'train.parquet')\n",
    "#test_data = pd.read_feather(path + 'test_data.ftr')\n",
    "target = pd.read_csv(path + 'train_labels.csv')\n",
    "#train_data = pd.merge(train_data, target, on='customer_ID', how='left')\n",
    "\n",
    "# sample_size = 100000  # Choose the size of the subset you want\n",
    "# train_data_subset = train_data.sample(n=sample_size, random_state=42)  # Use a fixed random_state for reproducibility\n",
    " "
   ]
  },
  {
   "cell_type": "code",
   "execution_count": 78,
   "id": "517ac0e3-ba43-43c3-b37a-b2c13e1f62f7",
   "metadata": {},
   "outputs": [],
   "source": [
    "train_data = train_data.fillna(0)"
   ]
  },
  {
   "cell_type": "code",
   "execution_count": 79,
   "id": "0365857d-8522-46be-b411-554a3aa61a4e",
   "metadata": {},
   "outputs": [],
   "source": [
    "train_data = pd.merge(train_data, target, on='customer_ID', how='left')"
   ]
  },
  {
   "cell_type": "code",
   "execution_count": 80,
   "id": "710cf76b-5441-44d8-88d9-6ce547bc4126",
   "metadata": {},
   "outputs": [],
   "source": [
    "sample_size = 500000  # Choose the size of the subset you want\n",
    "train_data_subset = train_data.sample(n=sample_size, random_state=42)  # Use a fixed random_state for reproducibility"
   ]
  },
  {
   "cell_type": "markdown",
   "id": "87905eb9-9704-48b4-8371-4476ce82131c",
   "metadata": {},
   "source": [
    "# 1.0 Data Desciption"
   ]
  },
  {
   "cell_type": "code",
   "execution_count": 81,
   "id": "ae32168c-e79c-4d64-b59e-f13bc9c763b7",
   "metadata": {
    "ExecuteTime": {
     "end_time": "2023-08-04T16:09:38.918130Z",
     "start_time": "2023-08-04T16:09:38.892936Z"
    }
   },
   "outputs": [],
   "source": [
    "df1 = train_data_subset.copy()"
   ]
  },
  {
   "cell_type": "code",
   "execution_count": 82,
   "id": "c8deabc8-9ee2-4b93-af16-ac43efdf7dd6",
   "metadata": {
    "ExecuteTime": {
     "end_time": "2023-08-04T16:09:39.291207Z",
     "start_time": "2023-08-04T16:09:39.261127Z"
    }
   },
   "outputs": [
    {
     "data": {
      "text/html": [
       "<div>\n",
       "<style scoped>\n",
       "    .dataframe tbody tr th:only-of-type {\n",
       "        vertical-align: middle;\n",
       "    }\n",
       "\n",
       "    .dataframe tbody tr th {\n",
       "        vertical-align: top;\n",
       "    }\n",
       "\n",
       "    .dataframe thead th {\n",
       "        text-align: right;\n",
       "    }\n",
       "</style>\n",
       "<table border=\"1\" class=\"dataframe\">\n",
       "  <thead>\n",
       "    <tr style=\"text-align: right;\">\n",
       "      <th></th>\n",
       "      <th>customer_ID</th>\n",
       "      <th>S_2</th>\n",
       "      <th>P_2</th>\n",
       "      <th>D_39</th>\n",
       "      <th>B_1</th>\n",
       "      <th>B_2</th>\n",
       "      <th>R_1</th>\n",
       "      <th>S_3</th>\n",
       "      <th>D_41</th>\n",
       "      <th>B_3</th>\n",
       "      <th>...</th>\n",
       "      <th>D_137</th>\n",
       "      <th>D_138</th>\n",
       "      <th>D_139</th>\n",
       "      <th>D_140</th>\n",
       "      <th>D_141</th>\n",
       "      <th>D_142</th>\n",
       "      <th>D_143</th>\n",
       "      <th>D_144</th>\n",
       "      <th>D_145</th>\n",
       "      <th>target</th>\n",
       "    </tr>\n",
       "  </thead>\n",
       "  <tbody>\n",
       "    <tr>\n",
       "      <th>4020185</th>\n",
       "      <td>b9cdf83627a38ebbfd8b8eb2c943f631fa18ea56731951...</td>\n",
       "      <td>2018-02-14</td>\n",
       "      <td>0.806505</td>\n",
       "      <td>0</td>\n",
       "      <td>0.008804</td>\n",
       "      <td>0.812299</td>\n",
       "      <td>0.008388</td>\n",
       "      <td>0.000000</td>\n",
       "      <td>0.0</td>\n",
       "      <td>0.008983</td>\n",
       "      <td>...</td>\n",
       "      <td>-1</td>\n",
       "      <td>-1</td>\n",
       "      <td>0</td>\n",
       "      <td>0</td>\n",
       "      <td>0.000000</td>\n",
       "      <td>0.00</td>\n",
       "      <td>0</td>\n",
       "      <td>0.007989</td>\n",
       "      <td>0</td>\n",
       "      <td>0</td>\n",
       "    </tr>\n",
       "    <tr>\n",
       "      <th>239033</th>\n",
       "      <td>0b1ecd1e9fd72ebf6e3188c581e90de0210c1d3133b231...</td>\n",
       "      <td>2017-07-08</td>\n",
       "      <td>1.000348</td>\n",
       "      <td>0</td>\n",
       "      <td>0.007206</td>\n",
       "      <td>0.814319</td>\n",
       "      <td>0.003198</td>\n",
       "      <td>0.000000</td>\n",
       "      <td>0.0</td>\n",
       "      <td>0.004756</td>\n",
       "      <td>...</td>\n",
       "      <td>-1</td>\n",
       "      <td>-1</td>\n",
       "      <td>0</td>\n",
       "      <td>0</td>\n",
       "      <td>0.000000</td>\n",
       "      <td>0.00</td>\n",
       "      <td>0</td>\n",
       "      <td>0.007258</td>\n",
       "      <td>0</td>\n",
       "      <td>0</td>\n",
       "    </tr>\n",
       "    <tr>\n",
       "      <th>538306</th>\n",
       "      <td>191091b92233586dde76a982176a9f9e25a2c39640de2d...</td>\n",
       "      <td>2017-12-20</td>\n",
       "      <td>0.861135</td>\n",
       "      <td>0</td>\n",
       "      <td>0.003650</td>\n",
       "      <td>0.813594</td>\n",
       "      <td>0.004368</td>\n",
       "      <td>0.000000</td>\n",
       "      <td>0.0</td>\n",
       "      <td>0.006918</td>\n",
       "      <td>...</td>\n",
       "      <td>-1</td>\n",
       "      <td>-1</td>\n",
       "      <td>0</td>\n",
       "      <td>0</td>\n",
       "      <td>0.000000</td>\n",
       "      <td>0.00</td>\n",
       "      <td>0</td>\n",
       "      <td>0.003216</td>\n",
       "      <td>0</td>\n",
       "      <td>0</td>\n",
       "    </tr>\n",
       "    <tr>\n",
       "      <th>2865396</th>\n",
       "      <td>84405a24538c7f1c023c05e613e5a1332880034c594813...</td>\n",
       "      <td>2017-11-11</td>\n",
       "      <td>0.603687</td>\n",
       "      <td>1</td>\n",
       "      <td>0.255618</td>\n",
       "      <td>0.012212</td>\n",
       "      <td>0.005368</td>\n",
       "      <td>0.259088</td>\n",
       "      <td>0.0</td>\n",
       "      <td>0.211350</td>\n",
       "      <td>...</td>\n",
       "      <td>-1</td>\n",
       "      <td>-1</td>\n",
       "      <td>1</td>\n",
       "      <td>1</td>\n",
       "      <td>0.891811</td>\n",
       "      <td>0.14</td>\n",
       "      <td>1</td>\n",
       "      <td>0.009432</td>\n",
       "      <td>1</td>\n",
       "      <td>0</td>\n",
       "    </tr>\n",
       "    <tr>\n",
       "      <th>5375221</th>\n",
       "      <td>f8c0112a130a70118e9b4c3442516f2853bcd01b4fd715...</td>\n",
       "      <td>2017-12-21</td>\n",
       "      <td>0.993622</td>\n",
       "      <td>0</td>\n",
       "      <td>0.004110</td>\n",
       "      <td>0.814339</td>\n",
       "      <td>0.002305</td>\n",
       "      <td>0.000000</td>\n",
       "      <td>0.0</td>\n",
       "      <td>0.009587</td>\n",
       "      <td>...</td>\n",
       "      <td>-1</td>\n",
       "      <td>-1</td>\n",
       "      <td>0</td>\n",
       "      <td>0</td>\n",
       "      <td>0.000000</td>\n",
       "      <td>0.00</td>\n",
       "      <td>0</td>\n",
       "      <td>0.003863</td>\n",
       "      <td>0</td>\n",
       "      <td>0</td>\n",
       "    </tr>\n",
       "  </tbody>\n",
       "</table>\n",
       "<p>5 rows × 191 columns</p>\n",
       "</div>"
      ],
      "text/plain": [
       "                                               customer_ID         S_2  \\\n",
       "4020185  b9cdf83627a38ebbfd8b8eb2c943f631fa18ea56731951...  2018-02-14   \n",
       "239033   0b1ecd1e9fd72ebf6e3188c581e90de0210c1d3133b231...  2017-07-08   \n",
       "538306   191091b92233586dde76a982176a9f9e25a2c39640de2d...  2017-12-20   \n",
       "2865396  84405a24538c7f1c023c05e613e5a1332880034c594813...  2017-11-11   \n",
       "5375221  f8c0112a130a70118e9b4c3442516f2853bcd01b4fd715...  2017-12-21   \n",
       "\n",
       "              P_2  D_39       B_1       B_2       R_1       S_3  D_41  \\\n",
       "4020185  0.806505     0  0.008804  0.812299  0.008388  0.000000   0.0   \n",
       "239033   1.000348     0  0.007206  0.814319  0.003198  0.000000   0.0   \n",
       "538306   0.861135     0  0.003650  0.813594  0.004368  0.000000   0.0   \n",
       "2865396  0.603687     1  0.255618  0.012212  0.005368  0.259088   0.0   \n",
       "5375221  0.993622     0  0.004110  0.814339  0.002305  0.000000   0.0   \n",
       "\n",
       "              B_3  ...  D_137  D_138  D_139  D_140     D_141  D_142  D_143  \\\n",
       "4020185  0.008983  ...     -1     -1      0      0  0.000000   0.00      0   \n",
       "239033   0.004756  ...     -1     -1      0      0  0.000000   0.00      0   \n",
       "538306   0.006918  ...     -1     -1      0      0  0.000000   0.00      0   \n",
       "2865396  0.211350  ...     -1     -1      1      1  0.891811   0.14      1   \n",
       "5375221  0.009587  ...     -1     -1      0      0  0.000000   0.00      0   \n",
       "\n",
       "            D_144  D_145  target  \n",
       "4020185  0.007989      0       0  \n",
       "239033   0.007258      0       0  \n",
       "538306   0.003216      0       0  \n",
       "2865396  0.009432      1       0  \n",
       "5375221  0.003863      0       0  \n",
       "\n",
       "[5 rows x 191 columns]"
      ]
     },
     "execution_count": 82,
     "metadata": {},
     "output_type": "execute_result"
    }
   ],
   "source": [
    "df1.head()"
   ]
  },
  {
   "cell_type": "markdown",
   "id": "dab3d56e-d28e-4991-869d-79cba92ee6b9",
   "metadata": {},
   "source": [
    "## 1.1 Data Shape"
   ]
  },
  {
   "cell_type": "code",
   "execution_count": 83,
   "id": "d361ff49-6413-49f7-b0cc-2a1e5ce81bb2",
   "metadata": {
    "ExecuteTime": {
     "end_time": "2023-08-04T16:09:40.069357Z",
     "start_time": "2023-08-04T16:09:40.051965Z"
    }
   },
   "outputs": [
    {
     "data": {
      "text/plain": [
       "(500000, 191)"
      ]
     },
     "execution_count": 83,
     "metadata": {},
     "output_type": "execute_result"
    }
   ],
   "source": [
    "df1.shape"
   ]
  },
  {
   "cell_type": "markdown",
   "id": "1ea4d9a0-f88d-40f2-a520-3808bab84016",
   "metadata": {},
   "source": [
    "## 1.2 Data Info"
   ]
  },
  {
   "cell_type": "code",
   "execution_count": 84,
   "id": "b041ab69-230e-49e6-b847-eafd49e77024",
   "metadata": {
    "ExecuteTime": {
     "end_time": "2023-08-04T16:09:41.516792Z",
     "start_time": "2023-08-04T16:09:40.908405Z"
    }
   },
   "outputs": [
    {
     "data": {
      "text/html": [
       "<div>\n",
       "<style scoped>\n",
       "    .dataframe tbody tr th:only-of-type {\n",
       "        vertical-align: middle;\n",
       "    }\n",
       "\n",
       "    .dataframe tbody tr th {\n",
       "        vertical-align: top;\n",
       "    }\n",
       "\n",
       "    .dataframe thead th {\n",
       "        text-align: right;\n",
       "    }\n",
       "</style>\n",
       "<table border=\"1\" class=\"dataframe\">\n",
       "  <thead>\n",
       "    <tr style=\"text-align: right;\">\n",
       "      <th></th>\n",
       "      <th>P_2</th>\n",
       "      <th>D_39</th>\n",
       "      <th>B_1</th>\n",
       "      <th>B_2</th>\n",
       "      <th>R_1</th>\n",
       "      <th>S_3</th>\n",
       "      <th>D_41</th>\n",
       "      <th>B_3</th>\n",
       "      <th>D_42</th>\n",
       "      <th>D_43</th>\n",
       "      <th>...</th>\n",
       "      <th>D_137</th>\n",
       "      <th>D_138</th>\n",
       "      <th>D_139</th>\n",
       "      <th>D_140</th>\n",
       "      <th>D_141</th>\n",
       "      <th>D_142</th>\n",
       "      <th>D_143</th>\n",
       "      <th>D_144</th>\n",
       "      <th>D_145</th>\n",
       "      <th>target</th>\n",
       "    </tr>\n",
       "  </thead>\n",
       "  <tbody>\n",
       "    <tr>\n",
       "      <th>count</th>\n",
       "      <td>500000.000000</td>\n",
       "      <td>500000.000000</td>\n",
       "      <td>500000.000000</td>\n",
       "      <td>500000.000000</td>\n",
       "      <td>5.000000e+05</td>\n",
       "      <td>500000.000000</td>\n",
       "      <td>500000.000000</td>\n",
       "      <td>500000.000000</td>\n",
       "      <td>500000.000000</td>\n",
       "      <td>500000.000000</td>\n",
       "      <td>...</td>\n",
       "      <td>500000.000000</td>\n",
       "      <td>500000.000000</td>\n",
       "      <td>500000.000000</td>\n",
       "      <td>500000.000000</td>\n",
       "      <td>500000.000000</td>\n",
       "      <td>500000.000000</td>\n",
       "      <td>500000.000000</td>\n",
       "      <td>500000.000000</td>\n",
       "      <td>500000.000000</td>\n",
       "      <td>500000.000000</td>\n",
       "    </tr>\n",
       "    <tr>\n",
       "      <th>mean</th>\n",
       "      <td>0.650912</td>\n",
       "      <td>5.028996</td>\n",
       "      <td>0.123928</td>\n",
       "      <td>0.621744</td>\n",
       "      <td>7.854373e-02</td>\n",
       "      <td>0.184006</td>\n",
       "      <td>0.055135</td>\n",
       "      <td>0.132517</td>\n",
       "      <td>0.026408</td>\n",
       "      <td>0.108415</td>\n",
       "      <td>...</td>\n",
       "      <td>-0.964504</td>\n",
       "      <td>-0.953584</td>\n",
       "      <td>0.152644</td>\n",
       "      <td>0.014196</td>\n",
       "      <td>0.157648</td>\n",
       "      <td>0.066653</td>\n",
       "      <td>0.152502</td>\n",
       "      <td>0.051953</td>\n",
       "      <td>0.600720</td>\n",
       "      <td>0.248242</td>\n",
       "    </tr>\n",
       "    <tr>\n",
       "      <th>std</th>\n",
       "      <td>0.250543</td>\n",
       "      <td>9.151768</td>\n",
       "      <td>0.211855</td>\n",
       "      <td>0.401485</td>\n",
       "      <td>2.254095e-01</td>\n",
       "      <td>0.194990</td>\n",
       "      <td>0.203049</td>\n",
       "      <td>0.234995</td>\n",
       "      <td>0.108261</td>\n",
       "      <td>0.193189</td>\n",
       "      <td>...</td>\n",
       "      <td>0.187040</td>\n",
       "      <td>0.263336</td>\n",
       "      <td>0.407402</td>\n",
       "      <td>0.168744</td>\n",
       "      <td>0.347767</td>\n",
       "      <td>0.176180</td>\n",
       "      <td>0.407281</td>\n",
       "      <td>0.181852</td>\n",
       "      <td>2.118645</td>\n",
       "      <td>0.431993</td>\n",
       "    </tr>\n",
       "    <tr>\n",
       "      <th>min</th>\n",
       "      <td>-0.403670</td>\n",
       "      <td>0.000000</td>\n",
       "      <td>-0.799453</td>\n",
       "      <td>0.000000</td>\n",
       "      <td>2.058457e-09</td>\n",
       "      <td>-0.452752</td>\n",
       "      <td>0.000000</td>\n",
       "      <td>0.000000</td>\n",
       "      <td>-0.000316</td>\n",
       "      <td>0.000000</td>\n",
       "      <td>...</td>\n",
       "      <td>-1.000000</td>\n",
       "      <td>-1.000000</td>\n",
       "      <td>-1.000000</td>\n",
       "      <td>-1.000000</td>\n",
       "      <td>0.000000</td>\n",
       "      <td>-0.014228</td>\n",
       "      <td>-1.000000</td>\n",
       "      <td>0.000000</td>\n",
       "      <td>-1.000000</td>\n",
       "      <td>0.000000</td>\n",
       "    </tr>\n",
       "    <tr>\n",
       "      <th>25%</th>\n",
       "      <td>0.475743</td>\n",
       "      <td>0.000000</td>\n",
       "      <td>0.008869</td>\n",
       "      <td>0.105637</td>\n",
       "      <td>2.889025e-03</td>\n",
       "      <td>0.079374</td>\n",
       "      <td>0.000000</td>\n",
       "      <td>0.005244</td>\n",
       "      <td>0.000000</td>\n",
       "      <td>0.000000</td>\n",
       "      <td>...</td>\n",
       "      <td>-1.000000</td>\n",
       "      <td>-1.000000</td>\n",
       "      <td>0.000000</td>\n",
       "      <td>0.000000</td>\n",
       "      <td>0.000000</td>\n",
       "      <td>0.000000</td>\n",
       "      <td>0.000000</td>\n",
       "      <td>0.002703</td>\n",
       "      <td>0.000000</td>\n",
       "      <td>0.000000</td>\n",
       "    </tr>\n",
       "    <tr>\n",
       "      <th>50%</th>\n",
       "      <td>0.690610</td>\n",
       "      <td>0.000000</td>\n",
       "      <td>0.031282</td>\n",
       "      <td>0.814362</td>\n",
       "      <td>5.785804e-03</td>\n",
       "      <td>0.149549</td>\n",
       "      <td>0.000000</td>\n",
       "      <td>0.009792</td>\n",
       "      <td>0.000000</td>\n",
       "      <td>0.046853</td>\n",
       "      <td>...</td>\n",
       "      <td>-1.000000</td>\n",
       "      <td>-1.000000</td>\n",
       "      <td>0.000000</td>\n",
       "      <td>0.000000</td>\n",
       "      <td>0.000000</td>\n",
       "      <td>0.000000</td>\n",
       "      <td>0.000000</td>\n",
       "      <td>0.005476</td>\n",
       "      <td>0.000000</td>\n",
       "      <td>0.000000</td>\n",
       "    </tr>\n",
       "    <tr>\n",
       "      <th>75%</th>\n",
       "      <td>0.863481</td>\n",
       "      <td>8.000000</td>\n",
       "      <td>0.125503</td>\n",
       "      <td>1.002417</td>\n",
       "      <td>8.655979e-03</td>\n",
       "      <td>0.212863</td>\n",
       "      <td>0.000000</td>\n",
       "      <td>0.154557</td>\n",
       "      <td>0.000000</td>\n",
       "      <td>0.132360</td>\n",
       "      <td>...</td>\n",
       "      <td>-1.000000</td>\n",
       "      <td>-1.000000</td>\n",
       "      <td>0.000000</td>\n",
       "      <td>0.000000</td>\n",
       "      <td>0.000000</td>\n",
       "      <td>0.000000</td>\n",
       "      <td>0.000000</td>\n",
       "      <td>0.008245</td>\n",
       "      <td>0.000000</td>\n",
       "      <td>0.000000</td>\n",
       "    </tr>\n",
       "    <tr>\n",
       "      <th>max</th>\n",
       "      <td>1.010000</td>\n",
       "      <td>182.000000</td>\n",
       "      <td>1.324055</td>\n",
       "      <td>1.010000</td>\n",
       "      <td>2.758477e+00</td>\n",
       "      <td>4.891484</td>\n",
       "      <td>7.442589</td>\n",
       "      <td>1.518358</td>\n",
       "      <td>4.186139</td>\n",
       "      <td>10.111619</td>\n",
       "      <td>...</td>\n",
       "      <td>1.000000</td>\n",
       "      <td>6.000000</td>\n",
       "      <td>1.000000</td>\n",
       "      <td>1.000000</td>\n",
       "      <td>1.330424</td>\n",
       "      <td>2.204979</td>\n",
       "      <td>1.000000</td>\n",
       "      <td>1.343311</td>\n",
       "      <td>46.000000</td>\n",
       "      <td>1.000000</td>\n",
       "    </tr>\n",
       "  </tbody>\n",
       "</table>\n",
       "<p>8 rows × 189 columns</p>\n",
       "</div>"
      ],
      "text/plain": [
       "                 P_2           D_39            B_1            B_2  \\\n",
       "count  500000.000000  500000.000000  500000.000000  500000.000000   \n",
       "mean        0.650912       5.028996       0.123928       0.621744   \n",
       "std         0.250543       9.151768       0.211855       0.401485   \n",
       "min        -0.403670       0.000000      -0.799453       0.000000   \n",
       "25%         0.475743       0.000000       0.008869       0.105637   \n",
       "50%         0.690610       0.000000       0.031282       0.814362   \n",
       "75%         0.863481       8.000000       0.125503       1.002417   \n",
       "max         1.010000     182.000000       1.324055       1.010000   \n",
       "\n",
       "                R_1            S_3           D_41            B_3  \\\n",
       "count  5.000000e+05  500000.000000  500000.000000  500000.000000   \n",
       "mean   7.854373e-02       0.184006       0.055135       0.132517   \n",
       "std    2.254095e-01       0.194990       0.203049       0.234995   \n",
       "min    2.058457e-09      -0.452752       0.000000       0.000000   \n",
       "25%    2.889025e-03       0.079374       0.000000       0.005244   \n",
       "50%    5.785804e-03       0.149549       0.000000       0.009792   \n",
       "75%    8.655979e-03       0.212863       0.000000       0.154557   \n",
       "max    2.758477e+00       4.891484       7.442589       1.518358   \n",
       "\n",
       "                D_42           D_43  ...          D_137          D_138  \\\n",
       "count  500000.000000  500000.000000  ...  500000.000000  500000.000000   \n",
       "mean        0.026408       0.108415  ...      -0.964504      -0.953584   \n",
       "std         0.108261       0.193189  ...       0.187040       0.263336   \n",
       "min        -0.000316       0.000000  ...      -1.000000      -1.000000   \n",
       "25%         0.000000       0.000000  ...      -1.000000      -1.000000   \n",
       "50%         0.000000       0.046853  ...      -1.000000      -1.000000   \n",
       "75%         0.000000       0.132360  ...      -1.000000      -1.000000   \n",
       "max         4.186139      10.111619  ...       1.000000       6.000000   \n",
       "\n",
       "               D_139          D_140          D_141          D_142  \\\n",
       "count  500000.000000  500000.000000  500000.000000  500000.000000   \n",
       "mean        0.152644       0.014196       0.157648       0.066653   \n",
       "std         0.407402       0.168744       0.347767       0.176180   \n",
       "min        -1.000000      -1.000000       0.000000      -0.014228   \n",
       "25%         0.000000       0.000000       0.000000       0.000000   \n",
       "50%         0.000000       0.000000       0.000000       0.000000   \n",
       "75%         0.000000       0.000000       0.000000       0.000000   \n",
       "max         1.000000       1.000000       1.330424       2.204979   \n",
       "\n",
       "               D_143          D_144          D_145         target  \n",
       "count  500000.000000  500000.000000  500000.000000  500000.000000  \n",
       "mean        0.152502       0.051953       0.600720       0.248242  \n",
       "std         0.407281       0.181852       2.118645       0.431993  \n",
       "min        -1.000000       0.000000      -1.000000       0.000000  \n",
       "25%         0.000000       0.002703       0.000000       0.000000  \n",
       "50%         0.000000       0.005476       0.000000       0.000000  \n",
       "75%         0.000000       0.008245       0.000000       0.000000  \n",
       "max         1.000000       1.343311      46.000000       1.000000  \n",
       "\n",
       "[8 rows x 189 columns]"
      ]
     },
     "execution_count": 84,
     "metadata": {},
     "output_type": "execute_result"
    }
   ],
   "source": [
    "df1.describe()"
   ]
  },
  {
   "cell_type": "code",
   "execution_count": 85,
   "id": "7fbace05-5d9d-479a-9952-4af10d72b0da",
   "metadata": {
    "ExecuteTime": {
     "end_time": "2023-08-04T16:09:41.548037Z",
     "start_time": "2023-08-04T16:09:41.518303Z"
    }
   },
   "outputs": [
    {
     "name": "stdout",
     "output_type": "stream",
     "text": [
      "<class 'pandas.core.frame.DataFrame'>\n",
      "Index: 500000 entries, 4020185 to 1205422\n",
      "Columns: 191 entries, customer_ID to target\n",
      "dtypes: float32(93), int16(9), int64(1), int8(86), object(2)\n",
      "memory usage: 242.2+ MB\n"
     ]
    }
   ],
   "source": [
    "df1.info()"
   ]
  },
  {
   "cell_type": "markdown",
   "id": "7d9a466c-32b5-4839-a889-ee94415c753f",
   "metadata": {},
   "source": [
    "## 1.3 Check NaNs"
   ]
  },
  {
   "cell_type": "code",
   "execution_count": 86,
   "id": "5565614a-05e4-4c40-92cc-caa891615bc3",
   "metadata": {},
   "outputs": [
    {
     "data": {
      "text/plain": [
       "customer_ID    0\n",
       "S_2            0\n",
       "P_2            0\n",
       "D_39           0\n",
       "B_1            0\n",
       "              ..\n",
       "D_142          0\n",
       "D_143          0\n",
       "D_144          0\n",
       "D_145          0\n",
       "target         0\n",
       "Length: 191, dtype: int64"
      ]
     },
     "execution_count": 86,
     "metadata": {},
     "output_type": "execute_result"
    }
   ],
   "source": [
    "df1.isna().sum()"
   ]
  },
  {
   "cell_type": "code",
   "execution_count": 87,
   "id": "b7e2aac4-818c-408a-ba11-05f10653b31c",
   "metadata": {},
   "outputs": [],
   "source": [
    "#df1 = df1.fillna(0)"
   ]
  },
  {
   "cell_type": "markdown",
   "id": "a5ed093c-ed0d-4a6b-974a-e88ca44925b2",
   "metadata": {},
   "source": [
    "## 1.4 Check Data Types"
   ]
  },
  {
   "cell_type": "code",
   "execution_count": 88,
   "id": "11c5c516-6fc2-44ed-ace8-d06d634e3e86",
   "metadata": {},
   "outputs": [
    {
     "data": {
      "text/plain": [
       "customer_ID     object\n",
       "S_2             object\n",
       "P_2            float32\n",
       "D_39             int16\n",
       "B_1            float32\n",
       "                ...   \n",
       "D_142          float32\n",
       "D_143             int8\n",
       "D_144          float32\n",
       "D_145             int8\n",
       "target           int64\n",
       "Length: 191, dtype: object"
      ]
     },
     "execution_count": 88,
     "metadata": {},
     "output_type": "execute_result"
    }
   ],
   "source": [
    "df1.dtypes"
   ]
  },
  {
   "cell_type": "markdown",
   "id": "c8b49a70-cbbb-422b-9a44-af4f5f2b62f6",
   "metadata": {},
   "source": [
    "## 1.5 Dimensionality Reduction"
   ]
  },
  {
   "cell_type": "code",
   "execution_count": 89,
   "id": "6408e4d6-ce37-4f2c-8e4a-937695b88da9",
   "metadata": {},
   "outputs": [
    {
     "data": {
      "image/png": "[encoded data removed]",
      "text/plain": [
       "<Figure size 640x480 with 1 Axes>"
      ]
     },
     "metadata": {},
     "output_type": "display_data"
    }
   ],
   "source": [
    "# Create a MinMaxScaler instance\n",
    "scaler = MinMaxScaler()\n",
    "\n",
    "# Drop columns that you don't want to include in the analysis\n",
    "X = df1.drop(['customer_ID', 'S_2','target'], axis=1)\n",
    "\n",
    "# Scale the data using MinMaxScaler\n",
    "X_scaled = scaler.fit_transform(X)\n",
    "\n",
    "# Apply PCA\n",
    "pca = PCA(0.95)\n",
    "X_pca = pca.fit_transform(X_scaled)\n",
    "\n",
    "# Get the explained variance ratio of each principal component\n",
    "explained_variance_ratio = pca.explained_variance_ratio_\n",
    "\n",
    "# Calculate the cumulative explained variance\n",
    "cumulative_variance = np.cumsum(explained_variance_ratio)\n",
    "\n",
    "# Plot the cumulative explained variance\n",
    "plt.plot(range(1, len(cumulative_variance) + 1), cumulative_variance)\n",
    "plt.xlabel('Number of Principal Components')\n",
    "plt.ylabel('Cumulative Explained Variance')\n",
    "plt.title('Cumulative Explained Variance vs. Number of Principal Components')\n",
    "plt.show()\n"
   ]
  },
  {
   "cell_type": "code",
   "execution_count": 90,
   "id": "83ee6957-4b41-411e-9a42-c275b23591f2",
   "metadata": {},
   "outputs": [
    {
     "data": {
      "text/plain": [
       "48"
      ]
     },
     "execution_count": 90,
     "metadata": {},
     "output_type": "execute_result"
    }
   ],
   "source": [
    "len(cumulative_variance)"
   ]
  },
  {
   "cell_type": "markdown",
   "id": "9bcb674b-9de6-46dd-8a08-1f3d7e3d39e6",
   "metadata": {},
   "source": [
    "# 2.0 EDA"
   ]
  },
  {
   "cell_type": "code",
   "execution_count": 91,
   "id": "fbf8c63d-d1e1-4b81-b471-3734330eaf6b",
   "metadata": {},
   "outputs": [],
   "source": [
    "# Start Looking at B -> Balance Variables\n",
    "\n"
   ]
  },
  {
   "cell_type": "markdown",
   "id": "72e4f1cc-6ceb-4807-9e2d-01fcc159e253",
   "metadata": {},
   "source": [
    "# 3.0 Preprocessing"
   ]
  },
  {
   "cell_type": "code",
   "execution_count": 92,
   "id": "0fb62664-cf0d-4f6d-901f-6cc1d38cc748",
   "metadata": {},
   "outputs": [],
   "source": [
    "mms = MinMaxScaler()\n",
    "\n",
    "X = df1.drop(['target','customer_ID','S_2'], axis=1)\n",
    "y = df1.target\n",
    "\n",
    "X_scaled = mms.fit_transform(X)"
   ]
  },
  {
   "cell_type": "markdown",
   "id": "b63855e3-9c6e-4c1d-a758-e3f08a3e81ee",
   "metadata": {},
   "source": [
    "# 4.0 Machine Learning"
   ]
  },
  {
   "cell_type": "code",
   "execution_count": 93,
   "id": "faa0f8e9-3f7c-482f-91ab-1408d6eb3c92",
   "metadata": {},
   "outputs": [],
   "source": [
    "#Split Train-Val\n",
    "X_train, X_val, y_train, y_val = train_test_split(X, y, stratify=y, test_size=0.2, random_state=42)"
   ]
  },
  {
   "cell_type": "markdown",
   "id": "32059ac9-35ff-4ee6-b175-7104141f7221",
   "metadata": {},
   "source": [
    "## 4.1 Random Forest"
   ]
  },
  {
   "cell_type": "code",
   "execution_count": 94,
   "id": "ecde7c3e-2cbd-4dfb-8ed0-4dae33177041",
   "metadata": {},
   "outputs": [],
   "source": [
    "rf = RandomForestClassifier()\n",
    "\n",
    "rf.fit(X_train, y_train)\n",
    "\n",
    "y_pred_rf = rf.predict(X_val)"
   ]
  },
  {
   "cell_type": "code",
   "execution_count": 95,
   "id": "e22bd49c-179d-47ac-9162-2123c2d1af90",
   "metadata": {},
   "outputs": [
    {
     "data": {
      "text/html": [
       "<div>\n",
       "<style scoped>\n",
       "    .dataframe tbody tr th:only-of-type {\n",
       "        vertical-align: middle;\n",
       "    }\n",
       "\n",
       "    .dataframe tbody tr th {\n",
       "        vertical-align: top;\n",
       "    }\n",
       "\n",
       "    .dataframe thead th {\n",
       "        text-align: right;\n",
       "    }\n",
       "</style>\n",
       "<table border=\"1\" class=\"dataframe\">\n",
       "  <thead>\n",
       "    <tr style=\"text-align: right;\">\n",
       "      <th></th>\n",
       "      <th>F1 Score</th>\n",
       "      <th>Accuracy</th>\n",
       "      <th>Precision</th>\n",
       "      <th>Recall</th>\n",
       "      <th>ROC AUC</th>\n",
       "    </tr>\n",
       "  </thead>\n",
       "  <tbody>\n",
       "    <tr>\n",
       "      <th>0</th>\n",
       "      <td>0.754805</td>\n",
       "      <td>0.87982</td>\n",
       "      <td>0.764696</td>\n",
       "      <td>0.745166</td>\n",
       "      <td>0.834725</td>\n",
       "    </tr>\n",
       "  </tbody>\n",
       "</table>\n",
       "</div>"
      ],
      "text/plain": [
       "   F1 Score  Accuracy  Precision    Recall   ROC AUC\n",
       "0  0.754805   0.87982   0.764696  0.745166  0.834725"
      ]
     },
     "execution_count": 95,
     "metadata": {},
     "output_type": "execute_result"
    }
   ],
   "source": [
    "class_metrics(y_val, y_pred_rf)"
   ]
  },
  {
   "cell_type": "markdown",
   "id": "75c61427-9a4d-4842-978d-5413174b1fc9",
   "metadata": {},
   "source": [
    "## 4.2 XGBoost"
   ]
  },
  {
   "cell_type": "code",
   "execution_count": 96,
   "id": "63871b92-d093-4be5-a0e5-8c7c46abe5d0",
   "metadata": {},
   "outputs": [],
   "source": [
    "xgb = XGBClassifier()\n",
    "\n",
    "xgb.fit(X_train, y_train)\n",
    "\n",
    "y_pred_xgb = xgb.predict(X_val)"
   ]
  },
  {
   "cell_type": "code",
   "execution_count": 97,
   "id": "4aebacd9-dbbb-4381-a157-6414804cfec3",
   "metadata": {},
   "outputs": [
    {
     "data": {
      "text/html": [
       "<div>\n",
       "<style scoped>\n",
       "    .dataframe tbody tr th:only-of-type {\n",
       "        vertical-align: middle;\n",
       "    }\n",
       "\n",
       "    .dataframe tbody tr th {\n",
       "        vertical-align: top;\n",
       "    }\n",
       "\n",
       "    .dataframe thead th {\n",
       "        text-align: right;\n",
       "    }\n",
       "</style>\n",
       "<table border=\"1\" class=\"dataframe\">\n",
       "  <thead>\n",
       "    <tr style=\"text-align: right;\">\n",
       "      <th></th>\n",
       "      <th>F1 Score</th>\n",
       "      <th>Accuracy</th>\n",
       "      <th>Precision</th>\n",
       "      <th>Recall</th>\n",
       "      <th>ROC AUC</th>\n",
       "    </tr>\n",
       "  </thead>\n",
       "  <tbody>\n",
       "    <tr>\n",
       "      <th>0</th>\n",
       "      <td>0.751853</td>\n",
       "      <td>0.87777</td>\n",
       "      <td>0.757868</td>\n",
       "      <td>0.745931</td>\n",
       "      <td>0.833618</td>\n",
       "    </tr>\n",
       "  </tbody>\n",
       "</table>\n",
       "</div>"
      ],
      "text/plain": [
       "   F1 Score  Accuracy  Precision    Recall   ROC AUC\n",
       "0  0.751853   0.87777   0.757868  0.745931  0.833618"
      ]
     },
     "execution_count": 97,
     "metadata": {},
     "output_type": "execute_result"
    }
   ],
   "source": [
    "class_metrics(y_val, y_pred_xgb)"
   ]
  },
  {
   "cell_type": "markdown",
   "id": "96121aae-4073-4ceb-9553-7bbbd44b798e",
   "metadata": {},
   "source": [
    "## 4.2 Logistic Regression"
   ]
  },
  {
   "cell_type": "code",
   "execution_count": 99,
   "id": "bbd1fe59-af5d-4a07-b370-0574dfb26301",
   "metadata": {},
   "outputs": [],
   "source": [
    "lr = LogisticRegression()\n",
    "\n",
    "lr.fit(X_train, y_train)\n",
    "\n",
    "y_pred_lr = lr.predict(X_val)"
   ]
  },
  {
   "cell_type": "code",
   "execution_count": 100,
   "id": "a4f84f01-b8d2-46bb-a848-170868c36972",
   "metadata": {},
   "outputs": [
    {
     "data": {
      "text/html": [
       "<div>\n",
       "<style scoped>\n",
       "    .dataframe tbody tr th:only-of-type {\n",
       "        vertical-align: middle;\n",
       "    }\n",
       "\n",
       "    .dataframe tbody tr th {\n",
       "        vertical-align: top;\n",
       "    }\n",
       "\n",
       "    .dataframe thead th {\n",
       "        text-align: right;\n",
       "    }\n",
       "</style>\n",
       "<table border=\"1\" class=\"dataframe\">\n",
       "  <thead>\n",
       "    <tr style=\"text-align: right;\">\n",
       "      <th></th>\n",
       "      <th>F1 Score</th>\n",
       "      <th>Accuracy</th>\n",
       "      <th>Precision</th>\n",
       "      <th>Recall</th>\n",
       "      <th>ROC AUC</th>\n",
       "    </tr>\n",
       "  </thead>\n",
       "  <tbody>\n",
       "    <tr>\n",
       "      <th>0</th>\n",
       "      <td>0.635972</td>\n",
       "      <td>0.83697</td>\n",
       "      <td>0.713441</td>\n",
       "      <td>0.573679</td>\n",
       "      <td>0.748795</td>\n",
       "    </tr>\n",
       "  </tbody>\n",
       "</table>\n",
       "</div>"
      ],
      "text/plain": [
       "   F1 Score  Accuracy  Precision    Recall   ROC AUC\n",
       "0  0.635972   0.83697   0.713441  0.573679  0.748795"
      ]
     },
     "execution_count": 100,
     "metadata": {},
     "output_type": "execute_result"
    }
   ],
   "source": [
    "class_metrics(y_val, y_pred_lr)"
   ]
  },
  {
   "cell_type": "code",
   "execution_count": null,
   "id": "8f3494ee-aa13-492c-bedd-7ed9659fbdab",
   "metadata": {},
   "outputs": [],
   "source": []
  },
  {
   "cell_type": "code",
   "execution_count": null,
   "id": "79263fe5-d00f-4012-8653-432e4584d098",
   "metadata": {},
   "outputs": [],
   "source": []
  },
  {
   "cell_type": "code",
   "execution_count": null,
   "id": "772c6982-2420-476c-adac-6e90d87008e7",
   "metadata": {},
   "outputs": [],
   "source": []
  },
  {
   "cell_type": "code",
   "execution_count": null,
   "id": "e39f2826-081a-4308-9267-8aa8e09c0ba7",
   "metadata": {},
   "outputs": [],
   "source": []
  },
  {
   "cell_type": "code",
   "execution_count": null,
   "id": "4c97f428-ae37-4993-9fa1-946a90f33d05",
   "metadata": {},
   "outputs": [],
   "source": []
  }
 ],
 "metadata": {
  "kernelspec": {
   "display_name": "Python 3 (ipykernel)",
   "language": "python",
   "name": "python3"
  },
  "language_info": {
   "codemirror_mode": {
    "name": "ipython",
    "version": 3
   },
   "file_extension": ".py",
   "mimetype": "text/x-python",
   "name": "python",
   "nbconvert_exporter": "python",
   "pygments_lexer": "ipython3",
   "version": "3.10.12"
  }
 },
 "nbformat": 4,
 "nbformat_minor": 5
}
